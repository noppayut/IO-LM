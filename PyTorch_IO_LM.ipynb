{
  "nbformat": 4,
  "nbformat_minor": 0,
  "metadata": {
    "accelerator": "GPU",
    "colab": {
      "name": "PyTorch IO LM.ipynb",
      "provenance": [],
      "collapsed_sections": [],
      "toc_visible": true
    },
    "kernelspec": {
      "display_name": "Python 3",
      "name": "python3"
    }
  },
  "cells": [
    {
      "cell_type": "markdown",
      "metadata": {
        "id": "pDEjhWOyZnln"
      },
      "source": [
        "# Let's learn how to talk like IOers (Information operation-er)\n",
        "This means creating a language model based on their dialogue style.\n",
        "\n",
        "## Here's the steps\n",
        "1. Prepare required resources\n",
        "2. Create datasets for training and fine-tuning (with torchtext)\n",
        "3. Define a seq2seq model\n",
        "4. Train on a large dataset to learn how Thai in politics domain works (4,000 Nation politics and royal news)\n",
        "5. Fine-tune on small (scarce) datasets to learn their speaking styles\n",
        "\n",
        "Note:\n",
        "- Even I'm writing here as `large` dataset, it's still small for learning a language model.\n",
        "- The large dataset is highly bias in many senses. Not a good idea to use it for common tasks.\n",
        "- The language model isn't perfect. Unfortunately sometimes a sentence ends short and doesn't sound IO-ish."
      ]
    },
    {
      "cell_type": "markdown",
      "metadata": {
        "id": "Hhaa8jhoQtaZ"
      },
      "source": [
        "# Install required packages"
      ]
    },
    {
      "cell_type": "code",
      "metadata": {
        "id": "IhxfzlN3kjUd",
        "outputId": "3dbf3054-9c6b-4e4a-d824-92d032ab3486",
        "colab": {
          "base_uri": "https://localhost:8080/"
        }
      },
      "source": [
        "!pip3 install attacut emoji"
      ],
      "execution_count": null,
      "outputs": [
        {
          "output_type": "stream",
          "text": [
            "Collecting attacut\n",
            "\u001b[?25l  Downloading https://files.pythonhosted.org/packages/f6/56/4ab7204bde7468be65d047578192975035d9bc4e786990a407a28a8f75b8/attacut-1.0.6-py3-none-any.whl (1.3MB)\n",
            "\u001b[K     |████████████████████████████████| 1.3MB 16.2MB/s \n",
            "\u001b[?25hCollecting emoji\n",
            "\u001b[?25l  Downloading https://files.pythonhosted.org/packages/ff/1c/1f1457fe52d0b30cbeebfd578483cedb3e3619108d2d5a21380dfecf8ffd/emoji-0.6.0.tar.gz (51kB)\n",
            "\u001b[K     |████████████████████████████████| 51kB 9.5MB/s \n",
            "\u001b[?25hCollecting nptyping>=0.2.0\n",
            "  Downloading https://files.pythonhosted.org/packages/c8/e1/dd57538b62ce3b982bbbe7776f60f7cedadfbbdba98b85f3352aed5e61e2/nptyping-1.3.0-py3-none-any.whl\n",
            "Requirement already satisfied: docopt>=0.6.2 in /usr/local/lib/python3.6/dist-packages (from attacut) (0.6.2)\n",
            "Requirement already satisfied: six>=1.12.0 in /usr/local/lib/python3.6/dist-packages (from attacut) (1.15.0)\n",
            "Collecting ssg>=0.0.4\n",
            "\u001b[?25l  Downloading https://files.pythonhosted.org/packages/06/2b/9cf956a0088f44895d20ab0aa008d8f87cc1b1a210af14601aaf72dec729/ssg-0.0.6-py3-none-any.whl (473kB)\n",
            "\u001b[K     |████████████████████████████████| 481kB 47.0MB/s \n",
            "\u001b[?25hRequirement already satisfied: torch>=1.2.0 in /usr/local/lib/python3.6/dist-packages (from attacut) (1.7.0+cu101)\n",
            "Collecting fire>=0.1.3\n",
            "\u001b[?25l  Downloading https://files.pythonhosted.org/packages/34/a7/0e22e70778aca01a52b9c899d9c145c6396d7b613719cd63db97ffa13f2f/fire-0.3.1.tar.gz (81kB)\n",
            "\u001b[K     |████████████████████████████████| 81kB 12.0MB/s \n",
            "\u001b[?25hCollecting pyyaml>=5.1.2\n",
            "\u001b[?25l  Downloading https://files.pythonhosted.org/packages/64/c2/b80047c7ac2478f9501676c988a5411ed5572f35d1beff9cae07d321512c/PyYAML-5.3.1.tar.gz (269kB)\n",
            "\u001b[K     |████████████████████████████████| 276kB 52.4MB/s \n",
            "\u001b[?25hRequirement already satisfied: numpy>=1.17.0 in /usr/local/lib/python3.6/dist-packages (from attacut) (1.18.5)\n",
            "Collecting typish>=1.5.2\n",
            "\u001b[?25l  Downloading https://files.pythonhosted.org/packages/48/10/84e80246203f017fd27559b49557753d96cee860754247b7b023fd03d236/typish-1.9.1-py3-none-any.whl (44kB)\n",
            "\u001b[K     |████████████████████████████████| 51kB 8.5MB/s \n",
            "\u001b[?25hCollecting python-crfsuite>=0.9.6\n",
            "\u001b[?25l  Downloading https://files.pythonhosted.org/packages/95/99/869dde6dbf3e0d07a013c8eebfb0a3d30776334e0097f8432b631a9a3a19/python_crfsuite-0.9.7-cp36-cp36m-manylinux1_x86_64.whl (743kB)\n",
            "\u001b[K     |████████████████████████████████| 747kB 55.3MB/s \n",
            "\u001b[?25hRequirement already satisfied: tqdm>=4.32.2 in /usr/local/lib/python3.6/dist-packages (from ssg>=0.0.4->attacut) (4.41.1)\n",
            "Requirement already satisfied: typing-extensions in /usr/local/lib/python3.6/dist-packages (from torch>=1.2.0->attacut) (3.7.4.3)\n",
            "Requirement already satisfied: dataclasses in /usr/local/lib/python3.6/dist-packages (from torch>=1.2.0->attacut) (0.7)\n",
            "Requirement already satisfied: future in /usr/local/lib/python3.6/dist-packages (from torch>=1.2.0->attacut) (0.16.0)\n",
            "Requirement already satisfied: termcolor in /usr/local/lib/python3.6/dist-packages (from fire>=0.1.3->attacut) (1.1.0)\n",
            "Building wheels for collected packages: emoji, fire, pyyaml\n",
            "  Building wheel for emoji (setup.py) ... \u001b[?25l\u001b[?25hdone\n",
            "  Created wheel for emoji: filename=emoji-0.6.0-cp36-none-any.whl size=49716 sha256=74d74605c7f9aed7059cebc5caad8251e8ec790b03d2525d27e413a67015f4bc\n",
            "  Stored in directory: /root/.cache/pip/wheels/46/2c/8b/9dcf5216ca68e14e0320e283692dce8ae321cdc01e73e17796\n",
            "  Building wheel for fire (setup.py) ... \u001b[?25l\u001b[?25hdone\n",
            "  Created wheel for fire: filename=fire-0.3.1-py2.py3-none-any.whl size=111005 sha256=cd5ebf2723474ce7be279bd356e2096eb2559b4da916d348facf608db603a835\n",
            "  Stored in directory: /root/.cache/pip/wheels/c1/61/df/768b03527bf006b546dce284eb4249b185669e65afc5fbb2ac\n",
            "  Building wheel for pyyaml (setup.py) ... \u001b[?25l\u001b[?25hdone\n",
            "  Created wheel for pyyaml: filename=PyYAML-5.3.1-cp36-cp36m-linux_x86_64.whl size=44619 sha256=ba108269cb4cb18c13033553ba9201d039071cf6eed1d488862ae0d85effb0d0\n",
            "  Stored in directory: /root/.cache/pip/wheels/a7/c1/ea/cf5bd31012e735dc1dfea3131a2d5eae7978b251083d6247bd\n",
            "Successfully built emoji fire pyyaml\n",
            "Installing collected packages: typish, nptyping, fire, python-crfsuite, ssg, pyyaml, attacut, emoji\n",
            "  Found existing installation: PyYAML 3.13\n",
            "    Uninstalling PyYAML-3.13:\n",
            "      Successfully uninstalled PyYAML-3.13\n",
            "Successfully installed attacut-1.0.6 emoji-0.6.0 fire-0.3.1 nptyping-1.3.0 python-crfsuite-0.9.7 pyyaml-5.3.1 ssg-0.0.6 typish-1.9.1\n"
          ],
          "name": "stdout"
        }
      ]
    },
    {
      "cell_type": "markdown",
      "metadata": {
        "id": "FB2X_mNIAO3F"
      },
      "source": [
        "# Download datasets"
      ]
    },
    {
      "cell_type": "code",
      "metadata": {
        "id": "wzG9cYDN_7f5",
        "outputId": "afd05858-6b75-4e81-ee09-22e922b38954",
        "colab": {
          "base_uri": "https://localhost:8080/"
        }
      },
      "source": [
        "!wget https://github.com/noppayut/IO-LM/raw/main/dataset/cheerlung_joined.txt"
      ],
      "execution_count": null,
      "outputs": [
        {
          "output_type": "stream",
          "text": [
            "--2020-11-14 02:39:14--  https://github.com/noppayut/IO-LM/raw/main/dataset/cheerlung_joined.txt\n",
            "Resolving github.com (github.com)... 140.82.114.3\n",
            "Connecting to github.com (github.com)|140.82.114.3|:443... connected.\n",
            "HTTP request sent, awaiting response... 302 Found\n",
            "Location: https://raw.githubusercontent.com/noppayut/IO-LM/main/dataset/cheerlung_joined.txt [following]\n",
            "--2020-11-14 02:39:14--  https://raw.githubusercontent.com/noppayut/IO-LM/main/dataset/cheerlung_joined.txt\n",
            "Resolving raw.githubusercontent.com (raw.githubusercontent.com)... 151.101.0.133, 151.101.64.133, 151.101.128.133, ...\n",
            "Connecting to raw.githubusercontent.com (raw.githubusercontent.com)|151.101.0.133|:443... connected.\n",
            "HTTP request sent, awaiting response... 200 OK\n",
            "Length: 2160064 (2.1M) [text/plain]\n",
            "Saving to: ‘cheerlung_joined.txt’\n",
            "\n",
            "cheerlung_joined.tx 100%[===================>]   2.06M  --.-KB/s    in 0.1s    \n",
            "\n",
            "2020-11-14 02:39:14 (18.1 MB/s) - ‘cheerlung_joined.txt’ saved [2160064/2160064]\n",
            "\n"
          ],
          "name": "stdout"
        }
      ]
    },
    {
      "cell_type": "code",
      "metadata": {
        "id": "GNrT01-hIkt-",
        "outputId": "0ba92264-72cc-4928-a3f2-811d184220c4",
        "colab": {
          "base_uri": "https://localhost:8080/"
        }
      },
      "source": [
        "!wget https://raw.githubusercontent.com/noppayut/IO-LM/main/dataset/awesome-salim-quotes.txt"
      ],
      "execution_count": null,
      "outputs": [
        {
          "output_type": "stream",
          "text": [
            "--2020-11-14 02:39:19--  https://raw.githubusercontent.com/noppayut/IO-LM/main/dataset/awesome-salim-quotes.txt\n",
            "Resolving raw.githubusercontent.com (raw.githubusercontent.com)... 151.101.0.133, 151.101.64.133, 151.101.128.133, ...\n",
            "Connecting to raw.githubusercontent.com (raw.githubusercontent.com)|151.101.0.133|:443... connected.\n",
            "HTTP request sent, awaiting response... 200 OK\n",
            "Length: 14110 (14K) [text/plain]\n",
            "Saving to: ‘awesome-salim-quotes.txt’\n",
            "\n",
            "\rawesome-salim-quote   0%[                    ]       0  --.-KB/s               \rawesome-salim-quote 100%[===================>]  13.78K  --.-KB/s    in 0s      \n",
            "\n",
            "2020-11-14 02:39:19 (77.4 MB/s) - ‘awesome-salim-quotes.txt’ saved [14110/14110]\n",
            "\n"
          ],
          "name": "stdout"
        }
      ]
    },
    {
      "cell_type": "code",
      "metadata": {
        "id": "NTV_6F8CAHkR",
        "outputId": "1eea64fb-68e8-46e6-92ed-2c530e6a329d",
        "colab": {
          "base_uri": "https://localhost:8080/"
        }
      },
      "source": [
        "!wget https://github.com/noppayut/IO-LM/raw/main/dataset/nation_joined.txt"
      ],
      "execution_count": null,
      "outputs": [
        {
          "output_type": "stream",
          "text": [
            "--2020-11-14 02:39:19--  https://github.com/noppayut/IO-LM/raw/main/dataset/nation_joined.txt\n",
            "Resolving github.com (github.com)... 140.82.114.3\n",
            "Connecting to github.com (github.com)|140.82.114.3|:443... connected.\n",
            "HTTP request sent, awaiting response... 302 Found\n",
            "Location: https://raw.githubusercontent.com/noppayut/IO-LM/main/dataset/nation_joined.txt [following]\n",
            "--2020-11-14 02:39:19--  https://raw.githubusercontent.com/noppayut/IO-LM/main/dataset/nation_joined.txt\n",
            "Resolving raw.githubusercontent.com (raw.githubusercontent.com)... 151.101.0.133, 151.101.64.133, 151.101.128.133, ...\n",
            "Connecting to raw.githubusercontent.com (raw.githubusercontent.com)|151.101.0.133|:443... connected.\n",
            "HTTP request sent, awaiting response... 200 OK\n",
            "Length: 20315520 (19M) [text/plain]\n",
            "Saving to: ‘nation_joined.txt’\n",
            "\n",
            "nation_joined.txt   100%[===================>]  19.37M  42.0MB/s    in 0.5s    \n",
            "\n",
            "2020-11-14 02:39:20 (42.0 MB/s) - ‘nation_joined.txt’ saved [20315520/20315520]\n",
            "\n"
          ],
          "name": "stdout"
        }
      ]
    },
    {
      "cell_type": "markdown",
      "metadata": {
        "id": "4Jl7f541lkC8"
      },
      "source": [
        "# Prepare data\n",
        "- Define tokenizer\n",
        "- Declare Field\n",
        "- Load data from text files\n",
        "- Create iterators"
      ]
    },
    {
      "cell_type": "code",
      "metadata": {
        "id": "X0xdheoD0RHh"
      },
      "source": [
        "import math\n",
        "\n",
        "import torch\n",
        "import torch.nn as nn\n",
        "\n",
        "import torchtext\n",
        "from torchtext.data import Field, BPTTIterator\n",
        "\n",
        "from attacut import tokenize as attacut_tkz"
      ],
      "execution_count": null,
      "outputs": []
    },
    {
      "cell_type": "code",
      "metadata": {
        "id": "LuYgpCvOCcRW"
      },
      "source": [
        "train_path = 'nation_joined.txt'\n",
        "finetune_path = 'cheerlung_joined.txt'\n",
        "finetune_asq_path = 'awesome-salim-quotes.txt'"
      ],
      "execution_count": null,
      "outputs": []
    },
    {
      "cell_type": "code",
      "metadata": {
        "id": "AOzZPQvul2W7",
        "outputId": "eb5252be-977d-4d61-ba53-5f4c25b94432",
        "colab": {
          "base_uri": "https://localhost:8080/"
        }
      },
      "source": [
        "attacut_tkz(\"เราจะทำตามสัญญา\")"
      ],
      "execution_count": null,
      "outputs": [
        {
          "output_type": "execute_result",
          "data": {
            "text/plain": [
              "['เรา', 'จะ', 'ทำ', 'ตาม', 'สัญญา']"
            ]
          },
          "metadata": {
            "tags": []
          },
          "execution_count": 7
        }
      ]
    },
    {
      "cell_type": "code",
      "metadata": {
        "id": "dObpOWQnYFWN"
      },
      "source": [
        "from emoji import UNICODE_EMOJI"
      ],
      "execution_count": null,
      "outputs": []
    },
    {
      "cell_type": "code",
      "metadata": {
        "id": "5au0Cts95RVr"
      },
      "source": [
        "def tokenize(txt):\n",
        "  def _process_emoji(tk):\n",
        "    if tk in UNICODE_EMOJI or len(tk) == 0:\n",
        "      return ''\n",
        "    while tk[-1] in UNICODE_EMOJI:\n",
        "      tk = tk[:-1]\n",
        "      if len(tk) == 0:\n",
        "        return ''\n",
        "    return tk\n",
        "\n",
        "  tokens = attacut_tkz(txt)\n",
        "  tokens_no_emoji = [_process_emoji(tk.strip()) for tk in tokens]\n",
        "  tokens_no_blank = list(filter(lambda x: len(x) > 0, tokens_no_emoji))\n",
        "  return tokens_no_blank"
      ],
      "execution_count": null,
      "outputs": []
    },
    {
      "cell_type": "code",
      "metadata": {
        "id": "m20_RgVM21rc"
      },
      "source": [
        "TEXT = Field(sequential=True,   \n",
        "             tokenize=tokenize, \n",
        "             init_token='<sos>',\n",
        "             eos_token='<eos>',\n",
        "             lower=True)"
      ],
      "execution_count": null,
      "outputs": []
    },
    {
      "cell_type": "code",
      "metadata": {
        "id": "Ocb4wZKiFqAy"
      },
      "source": [
        "from torchtext.datasets import LanguageModelingDataset"
      ],
      "execution_count": null,
      "outputs": []
    },
    {
      "cell_type": "code",
      "metadata": {
        "id": "mZiINj3vmFMs",
        "outputId": "943d14e0-63b8-4bcf-8a99-296bb74ae43a",
        "colab": {
          "base_uri": "https://localhost:8080/"
        }
      },
      "source": [
        "%%time\n",
        "# This cell may take ~10 minutes to run.\n",
        "train_dataset = LanguageModelingDataset(train_path, TEXT)\n",
        "finetune_dataset = LanguageModelingDataset(finetune_path, TEXT)\n",
        "finetune_asq_dataset = LanguageModelingDataset(finetune_asq_path, TEXT)"
      ],
      "execution_count": null,
      "outputs": [
        {
          "output_type": "stream",
          "text": [
            "CPU times: user 9min 1s, sys: 14 s, total: 9min 15s\n",
            "Wall time: 9min 15s\n"
          ],
          "name": "stdout"
        }
      ]
    },
    {
      "cell_type": "code",
      "metadata": {
        "id": "jjcMkp7ySGf3",
        "outputId": "3a824d1f-8d13-4619-8561-10d02ddc047b",
        "colab": {
          "base_uri": "https://localhost:8080/"
        }
      },
      "source": [
        "for ee in train_dataset.examples:\n",
        "  print(ee.text[:20])\n",
        "  break"
      ],
      "execution_count": null,
      "outputs": [
        {
          "output_type": "stream",
          "text": [
            "['ทนาย', 'เตรียม', 'ยื่น', 'อุทธรณ์', 'คำ', 'สั่ง', 'ไม่', 'ให้', 'ประกัน', 'อานนท์', '<eos>', 'ทนาย', 'เตรียม', 'ยื่น', 'อุทธรณ์', 'คำ', 'สั่ง', 'ไม่', 'ให้', 'ประกัน']\n"
          ],
          "name": "stdout"
        }
      ]
    },
    {
      "cell_type": "code",
      "metadata": {
        "id": "S66JQFf2KmuZ"
      },
      "source": [
        "TEXT.build_vocab(train_dataset, finetune_dataset, finetune_asq_dataset, min_freq=3)"
      ],
      "execution_count": null,
      "outputs": []
    },
    {
      "cell_type": "code",
      "metadata": {
        "id": "qxhbQG-8HKLU",
        "outputId": "a4a3efda-573e-4139-9b36-d909602017f5",
        "colab": {
          "base_uri": "https://localhost:8080/"
        }
      },
      "source": [
        "BATCH_SIZE = 200\n",
        "MAX_SEQ_LEN = 50\n",
        "device = torch.device('cuda' if torch.cuda.is_available() else 'cpu')\n",
        "print(device)\n",
        "\n",
        "train_iter = BPTTIterator(train_dataset, BATCH_SIZE, MAX_SEQ_LEN, shuffle=True, device=device)"
      ],
      "execution_count": null,
      "outputs": [
        {
          "output_type": "stream",
          "text": [
            "cuda\n"
          ],
          "name": "stdout"
        }
      ]
    },
    {
      "cell_type": "code",
      "metadata": {
        "id": "tOnij38VuDWx"
      },
      "source": [
        "finetune_iter = BPTTIterator(finetune_dataset, BATCH_SIZE, MAX_SEQ_LEN // 5, shuffle=True, device=device)\n",
        "finetune_asq_iter = BPTTIterator(finetune_asq_dataset, BATCH_SIZE // 3, MAX_SEQ_LEN // 10, shuffle=True, device=device)"
      ],
      "execution_count": null,
      "outputs": []
    },
    {
      "cell_type": "code",
      "metadata": {
        "id": "qJUJQ4nTWteK",
        "outputId": "84e2d1a3-a756-402d-ac92-31ec4a6d9064",
        "colab": {
          "base_uri": "https://localhost:8080/"
        }
      },
      "source": [
        "TEXT.vocab.itos[:5], TEXT.vocab.itos.index('<eos>')"
      ],
      "execution_count": null,
      "outputs": [
        {
          "output_type": "execute_result",
          "data": {
            "text/plain": [
              "(['<unk>', '<pad>', '<sos>', '<eos>', 'การ'], 3)"
            ]
          },
          "metadata": {
            "tags": []
          },
          "execution_count": 17
        }
      ]
    },
    {
      "cell_type": "code",
      "metadata": {
        "id": "H0X4knFnWmbB"
      },
      "source": [
        "import numpy as np\n",
        "itos = TEXT.vocab.itos\n",
        "\n",
        "def index_to_sent(batch_field):\n",
        "  arr = np.array(batch_field.tolist())\n",
        "  results = np.apply_along_axis(lambda ls: [itos[l] if l < len(itos[4:]) else '<unk>' for l in ls], 1, arr)\n",
        "  return results"
      ],
      "execution_count": null,
      "outputs": []
    },
    {
      "cell_type": "code",
      "metadata": {
        "id": "0nMTVZIwKBGF",
        "outputId": "3bda3092-6f1c-4e24-f4a1-a63fbfb8b929",
        "colab": {
          "base_uri": "https://localhost:8080/"
        }
      },
      "source": [
        "for i, batch in enumerate(finetune_iter):\n",
        "  print(\"Batch:\", i)\n",
        "  texts = index_to_sent(batch.text.T)\n",
        "  for text in texts[:4]:  \n",
        "    print(text)\n",
        "    print(\"-\"*13)\n",
        "  if i > 3:\n",
        "    break"
      ],
      "execution_count": null,
      "outputs": [
        {
          "output_type": "stream",
          "text": [
            "Batch: 0\n",
            "['ขอ' 'มติ' 'แฟน' '<unk>' '<eos>' 'พิมพ์' '1' 'อยาก' 'ให้' 'เรา']\n",
            "-------------\n",
            "['มา' '<eos>' 'มา' 'แล้ว' 'ก็' 'ไป' '....' 'ไป' 'แล้ว' 'ก็']\n",
            "-------------\n",
            "['เห็น' 'ได้' 'คะ' '..!' '!' '<eos>' '<eos>' '#' '<unk>' 'แล้ว']\n",
            "-------------\n",
            "['เรา' 'ยืนยั' 'ขอ' 'จ่าย' 'เงิน' 'แต่' 'เจ้าข' 'ร้าน' 'ไม่' 'รับ']\n",
            "-------------\n",
            "Batch: 1\n",
            "['ดำเนิน' 'คดี' 'กับ' 'คน' 'กลุ่ม' 'นี้' 'คะ' '\\u200d' '️' '<eos>']\n",
            "-------------\n",
            "['มา' '<eos>' 'แต่' 'ถึง' 'คุณ' 'จะ' 'คุกคาม' 'เรา' 'แค่' 'ไหน']\n",
            "-------------\n",
            "['นะ' 'คะ' '17' '.' '57' 'น.' 'ยอด' 'เกิน' '10' ',']\n",
            "-------------\n",
            "['แค่' 'เขียน' 'ชื่อ' 'ไว้' 'ขอ' 'เป็น' 'คราว' 'หน้า' 'และ' 'ใน']\n",
            "-------------\n",
            "Batch: 2\n",
            "['หาก' 'มติ' 'ท่วมท้น' 'จันทร์' 'ที่' '2' 'พฤศจิกายน' 'เวลา' '11' '.']\n",
            "-------------\n",
            "['<eos>' 'ก็' 'เปลี่ยนแป' 'อุดมการณ์' '<eos>' 'จุดยืน' 'ของ' 'องค์กร'\n",
            " 'สื่อสาร' 'มวล']\n",
            "-------------\n",
            "['000' 'บาท' 'แล้ว' '<eos>' 'อยาก' 'ตรวจสอบ' 'ก็' 'มา' 'หลักฐาน' 'มี']\n",
            "-------------\n",
            "['ร้าน' 'ก็' 'มี' '.' '.' 'พี่' 'ๆ' 'น้อง' 'ๆ' 'ที่']\n",
            "-------------\n",
            "Batch: 3\n",
            "['00' 'น.' 'แอดมิน' 'จะ' 'ไป' 'แจ้ง' 'ความ' 'ดำเนิน' 'คดี' 'ที่']\n",
            "-------------\n",
            "['ชน' '<eos>' 'เพื่อ' 'ชาติ' 'ศาสน์' 'กษัตริ' 'ไม่' 'ได้' '...' '\"']\n",
            "-------------\n",
            "['เป็น' '<unk>' 'รีบ' 'มา' 'เลย' 'นะ' 'คราบ' '<unk>' 'มา' '<unk>']\n",
            "-------------\n",
            "['น่า' 'รัก' 'รัก' 'สถาบัน' 'มา' 'นั่ง' 'รอ' 'คิว' 'อุดหนุ' 'กัน']\n",
            "-------------\n",
            "Batch: 4\n",
            "['<unk>' '.' '(' 'ท่าน' 'ใด' 'สะดวก' 'ไป' 'ด้วย' 'กัน' 'แอดมิน']\n",
            "-------------\n",
            "['<eos>' '<eos>' '\"' 'ฉาย' 'บุนนาค' '\"' '<eos>' 'ประธาน' 'กรรมกา' 'บริหาร']\n",
            "-------------\n",
            "['<eos>' 'ใคร' 'รู้จัก' 'บอก' 'เค้า' 'ทัก' 'มา' 'แอดมิน' 'จะ' 'ไป']\n",
            "-------------\n",
            "['มากมาย' 'ทัวร์' 'ลง' 'ของ' 'จริง' 'นะ' 'ครับ' '..!' '!' '<eos>']\n",
            "-------------\n"
          ],
          "name": "stdout"
        }
      ]
    },
    {
      "cell_type": "code",
      "metadata": {
        "id": "2M5NJjILWjaa",
        "outputId": "2b6030b8-c58b-4b38-d294-602a032896f9",
        "colab": {
          "base_uri": "https://localhost:8080/"
        }
      },
      "source": [
        "batch.text.T.shape"
      ],
      "execution_count": null,
      "outputs": [
        {
          "output_type": "execute_result",
          "data": {
            "text/plain": [
              "torch.Size([200, 10])"
            ]
          },
          "metadata": {
            "tags": []
          },
          "execution_count": 20
        }
      ]
    },
    {
      "cell_type": "markdown",
      "metadata": {
        "id": "o6m6qR-vsXdp"
      },
      "source": [
        "# Modeling\n",
        "\n",
        "Create a simple seq2seq language model\n",
        "\n",
        "Encoder\n",
        "- Multihead attention x 3\n",
        "\n",
        "Decoder\n",
        "- Linear layer"
      ]
    },
    {
      "cell_type": "code",
      "metadata": {
        "id": "3QnLmLfZLBb3"
      },
      "source": [
        "class PositionalEncoding(nn.Module):\n",
        "    def __init__(self, d_model, dropout=0.1, max_len=5000):\n",
        "        super(PositionalEncoding, self).__init__()\n",
        "        self.dropout = nn.Dropout(p=dropout)\n",
        "\n",
        "        pe = torch.zeros(max_len, d_model)\n",
        "        position = torch.arange(0, max_len, dtype=torch.float).unsqueeze(1)\n",
        "        div_term = torch.exp(torch.arange(0, d_model, 2).float() * (-math.log(10000.0) / d_model))\n",
        "        pe[:, 0::2] = torch.sin(position * div_term)\n",
        "        pe[:, 1::2] = torch.cos(position * div_term)\n",
        "        pe = pe.unsqueeze(0).transpose(0, 1)\n",
        "        self.register_buffer('pe', pe)\n",
        "\n",
        "    def forward(self, x):\n",
        "        x = x + self.pe[:x.size(0), :]\n",
        "        return self.dropout(x)"
      ],
      "execution_count": null,
      "outputs": []
    },
    {
      "cell_type": "code",
      "metadata": {
        "id": "TxdYiXrii4u_"
      },
      "source": [
        "from torch.nn import Transformer\n",
        "from torch.nn import TransformerEncoder, TransformerEncoderLayer, Transformer"
      ],
      "execution_count": null,
      "outputs": []
    },
    {
      "cell_type": "code",
      "metadata": {
        "id": "GKIoSNbULomv"
      },
      "source": [
        "from torch.nn import TransformerEncoder, TransformerEncoderLayer, Transformer\n",
        "\n",
        "class TransformerSmall(nn.Module):\n",
        "    def __init__(self, n_tokens, d_model, n_heads, n_hid, n_layers, dropout=0.2):\n",
        "        super(TransformerSmall, self).__init__()\n",
        "        self.pos_encoder = PositionalEncoding(d_model, dropout)\n",
        "        encoder_layers = TransformerEncoderLayer(d_model, n_heads, n_hid, dropout)\n",
        "        self.encoder = TransformerEncoder(encoder_layers, n_layers)\n",
        "        self.embedding = nn.Embedding(n_tokens, d_model)\n",
        "        self.d_model = d_model\n",
        "        self.decoder = nn.Linear(d_model, n_tokens)\n",
        "\n",
        "    def _generate_square_subsequent_mask(self, sz):\n",
        "        mask = (torch.triu(torch.ones(sz, sz)) == 1).transpose(0, 1)\n",
        "        mask = mask.float().masked_fill(mask == 0, float('-inf')).masked_fill(mask == 1, float(0.0))\n",
        "        return mask\n",
        "\n",
        "    def forward(self, src):\n",
        "        device = src.device\n",
        "        \n",
        "        # print(src.shape)\n",
        "        seq_len = src.size(0)\n",
        "        mask = self._generate_square_subsequent_mask(seq_len).to(device)\n",
        "        \n",
        "        src = self.embedding(src) * (self.d_model ** 0.5)\n",
        "        \n",
        "        src = self.pos_encoder(src)\n",
        "        output = self.encoder(src, mask)\n",
        "        output = self.decoder(output)\n",
        "        return output"
      ],
      "execution_count": null,
      "outputs": []
    },
    {
      "cell_type": "code",
      "metadata": {
        "id": "eGMG9zFDscev",
        "outputId": "34e0de33-32bc-401d-b763-71e13a56762e",
        "colab": {
          "base_uri": "https://localhost:8080/"
        }
      },
      "source": [
        "n_tokens = len(TEXT.vocab.itos) # the size of vocabulary\n",
        "d_model = 256 # embedding dimension\n",
        "n_hid = 256 # the dimension of the feedforward network model in nn.TransformerEncoder\n",
        "n_layers = 3 # the number of nn.TransformerEncoderLayer in nn.TransformerEncoder\n",
        "n_heads = 4 # the number of heads in the multiheadattention models\n",
        "dropout = 0.1 # the dropout value\n",
        "print(\"n_vocabs\", n_tokens)\n",
        "model = TransformerSmall(n_tokens, d_model, n_heads, n_hid, n_layers).to(device)"
      ],
      "execution_count": null,
      "outputs": [
        {
          "output_type": "stream",
          "text": [
            "n_vocabs 12147\n"
          ],
          "name": "stdout"
        }
      ]
    },
    {
      "cell_type": "markdown",
      "metadata": {
        "id": "pdJND7h9UJAD"
      },
      "source": [
        "# Define functions for training"
      ]
    },
    {
      "cell_type": "code",
      "metadata": {
        "id": "nclZLVfJ1zAN"
      },
      "source": [
        "import time\n",
        "def train(model, source_iter):\n",
        "    model.train() # Turn on the train mode\n",
        "    total_loss = 0.\n",
        "    start_time = time.time()\n",
        "    ntokens = len(TEXT.vocab.stoi)\n",
        "    for i, batch in enumerate(source_iter):\n",
        "        # data = batch.text\n",
        "        src = batch.text\n",
        "        tgt = batch.target\n",
        "        optimizer.zero_grad()\n",
        "        output = model(src)\n",
        "        # print(output.size(), tgt.size())\n",
        "        loss = criterion(output.view(-1, n_tokens), tgt.reshape(-1))\n",
        "        loss.backward()\n",
        "        torch.nn.utils.clip_grad_norm_(model.parameters(), 0.5)\n",
        "        optimizer.step()\n",
        "\n",
        "        total_loss += loss.item()\n",
        "    # print(src.shape, output.shape, output.view(-1, n_tokens).shape, tgt.shape)\n",
        "    return total_loss\n",
        "\n",
        "def evaluate(eval_model, source_iterator):\n",
        "    eval_model.eval() # Turn on the evaluation mode\n",
        "    total_loss = 0.\n",
        "    with torch.no_grad():\n",
        "      for i, batch in enumerate(source_iterator):\n",
        "        # data = batch.text\n",
        "        src = batch.text\n",
        "        tgt = batch.target\n",
        "        output = eval_model(src)\n",
        "        output_flat = output.view(-1, n_tokens)\n",
        "        # print(output_flat.shape, tgt.reshape(-1).shape)\n",
        "        total_loss += criterion(output_flat, tgt.reshape(-1)).item()\n",
        "    return total_loss"
      ],
      "execution_count": null,
      "outputs": []
    },
    {
      "cell_type": "code",
      "metadata": {
        "id": "aVuf8Hil6XCE"
      },
      "source": [
        "sos_idx = TEXT.vocab.stoi['<sos>']\n",
        "eos_idx = TEXT.vocab.stoi['<eos>']\n",
        "pad_idx = TEXT.vocab.stoi['<pad>']\n",
        "unk_idx = TEXT.vocab.stoi['<unk>']\n",
        "\n",
        "def generate(model, start_sentence, max_len=20):\n",
        "  model.eval()\n",
        "  tks = tokenize(start_sentence)\n",
        "  start_token = tks[0]\n",
        "  if not start_token in TEXT.vocab.stoi:\n",
        "    print(\"Start token not in vocab list\")\n",
        "    return \"\"\n",
        "  else:\n",
        "    output = tks\n",
        "    generated = TEXT.process([TEXT.preprocess(start_sentence)]).to(device)\n",
        "    while len(output) < max_len and not (output[-1] in ['<eos>', '<pad>']):\n",
        "      # print(output, generated, generated.shape)\n",
        "      out_model = model(generated)\n",
        "      out_tk = out_model.argmax(2)[-1, :].unsqueeze(1)\n",
        "      # print(out_model.shape, out_tk, out_tk.shape, out_model.argmax(2), out_model.argmax(2).shape)\n",
        "      generated = torch.cat((generated, out_tk),dim=0)\n",
        "      next_token_idx = out_tk[0, 0]\n",
        "      try:\n",
        "        output.append(TEXT.vocab.itos[next_token_idx])\n",
        "      except IndexError:\n",
        "        print(\"Index out of range\", next_token_idx)\n",
        "        return output\n",
        "\n",
        "    return output\n",
        "\n",
        "      "
      ],
      "execution_count": null,
      "outputs": []
    },
    {
      "cell_type": "code",
      "metadata": {
        "id": "6xEYL8Do6mP3",
        "outputId": "f9541153-afef-4064-80a7-5129b6aa1b78",
        "colab": {
          "base_uri": "https://localhost:8080/"
        }
      },
      "source": [
        "# try generating something without training\n",
        "print(generate(model, \"ม็อบ\"))"
      ],
      "execution_count": null,
      "outputs": [
        {
          "output_type": "stream",
          "text": [
            "['ม็อบ', 'ร.5', 'แฟน', 'พล.อ.ประวิตร วงษ์สุวรรณ', 'สุก', 'เเท้', 'วาสนา นาน่วม', 'อ๋อย', 'เหวง', 'นายพุฒิพงษ์ ปุณณกันต์', 'รังสิมา', 'กทม.พรรคพลังประชารัฐ', 'ศูนย์วิทยาศาสตร์', 'พล.อ.ณฐพนธ์ ศรีสวัสดิ์', 'ขนาน', 'inbox', 'พื้นบ้าน', 'สำนักงานอัยการสูง', '\"น.ส.วทันยา', 'เชฟ']\n"
          ],
          "name": "stdout"
        }
      ]
    },
    {
      "cell_type": "code",
      "metadata": {
        "id": "5H9CTyah1y9t"
      },
      "source": [
        "criterion = nn.CrossEntropyLoss()\n",
        "lr = 1e-3\n",
        "optimizer = torch.optim.Adam(model.parameters(), lr=lr)\n",
        "scheduler = torch.optim.lr_scheduler.StepLR(optimizer, 30, gamma=0.95)"
      ],
      "execution_count": null,
      "outputs": []
    },
    {
      "cell_type": "markdown",
      "metadata": {
        "id": "GdiORmiy7zvY"
      },
      "source": [
        "# Train on Nation politics news\n",
        "Train the model to predict next word in a sequence.\n",
        "\n",
        "For example,\n",
        "\n",
        "Given `เรา จะ ทำ ตาม`, predict `สัญญา`.\n"
      ]
    },
    {
      "cell_type": "code",
      "metadata": {
        "id": "JXKO5V5BUUAa"
      },
      "source": [
        "n_epochs = 400\n",
        "losses = []\n",
        "\n",
        "out_format = \"Epoch {}: Loss {:.4f}, LR {:.2E}, time {}\""
      ],
      "execution_count": null,
      "outputs": []
    },
    {
      "cell_type": "code",
      "metadata": {
        "id": "-sKeRejD1zCk",
        "outputId": "1c957327-82aa-4140-f52f-abc011829fc4",
        "colab": {
          "base_uri": "https://localhost:8080/"
        }
      },
      "source": [
        "# Train loop\n",
        "\n",
        "for epoch in range(1, n_epochs + 1):\n",
        "    epoch_start_time = time.time()\n",
        "    tr_loss = train(model, train_iter)\n",
        "    losses.append(tr_loss)\n",
        "    epoch_end_time = time.time()\n",
        "    if epoch % 20 == 0:\n",
        "      val_loss = evaluate(model, train_iter)\n",
        "      print(generate(model, \"ม็อบ\"))\n",
        "      print(generate(model, \"ธนาธร\"))\n",
        "      print(out_format.format(epoch, val_loss, scheduler.get_last_lr()[0], epoch_end_time - epoch_start_time))\n",
        "      print('-' * 15)\n",
        "\n",
        "    scheduler.step()"
      ],
      "execution_count": null,
      "outputs": [
        {
          "output_type": "stream",
          "text": [
            "['ม็อบ', 'ปลดแอก', 'และ', 'กลุ่มฟื้นฟู', 'ประชาธิปไตย', 'โดย', 'ไม่', 'มี', 'การ', 'ชุมนุม', 'ที่', 'จะ', 'มี', 'การ', 'ชุมนุม', 'ใน', 'วัน', 'ที่', '19', 'กันยายน']\n",
            "['ธนาธร', '<unk>', '<unk>', '<unk>', '<unk>', '<unk>', '<unk>', '<unk>', '<unk>', '<unk>', '<unk>', '<unk>', '<unk>', '<unk>', '<unk>', '<unk>', '<unk>', '<unk>', '<unk>', '<unk>']\n",
            "Epoch 20: Loss 629.6185, LR 1.00E-03, time 19.749066591262817\n",
            "---------------\n",
            "['ม็อบ', 'ปลดแอก', 'free', 'youth', 'ได้', 'โพสต์', 'ข้อความ', 'ผ่าน', 'เฟซบุ๊ก', 'ว่า', '\"', '<eos>']\n",
            "['ธนาธร', 'และ', 'ปิยบุตร', 'แสงกนกกุล', 'อดีต', 'ประธาน', 'คณะ', 'ก้าวหน้า', 'กล่าว', 'ว่า', 'การ', 'ชุมนุม', 'ของ', 'กลุ่มเยาวชน', 'ปลดแอก', 'ที่', 'อนุสาวรีย์ประชาธิปไตย', 'เมื่อ', 'วัน', 'ที่']\n",
            "Epoch 40: Loss 593.7111, LR 9.50E-04, time 19.68177056312561\n",
            "---------------\n",
            "['ม็อบ', 'ปลดแอก', 'ได้', 'โพสต์', 'ข้อความ', 'ผ่าน', 'เฟซบุ๊ก', 'ว่า', '\"', '<eos>']\n",
            "['ธนาธร', 'จึงรุ่งเรืองกิจ', 'ประธาน', 'คณะ', 'ก้าวหน้า', 'กล่าว', 'ว่า', 'การ', 'ชุมนุม', 'ของ', 'กลุ่มเยาวชน', 'ปลดแอก', 'ที่', 'อนุสาวรีย์ประชาธิปไตย', 'ถนนราชดำเนิน', 'ของ', 'กลุ่มเยาวชน', 'ปลดแอก', 'ที่', 'อนุสาวรีย์ประชาธิปไตย']\n",
            "Epoch 60: Loss 576.3566, LR 9.50E-04, time 19.705844402313232\n",
            "---------------\n",
            "['ม็อบ', 'ปลดแอก', 'ที่', 'อนุสาวรีย์ประชาธิปไตย', 'เมื่อ', 'วัน', 'ที่', '19', 'ก.ย.', 'ที่', 'ผ่าน', 'มา', '<eos>']\n",
            "['ธนาธร', 'จึงรุ่งเรืองกิจ', 'ประธาน', 'คณะ', 'ก้าวหน้า', 'กล่าว', 'ว่า', 'การ', 'ชุมนุม', 'สหกรณ์โคนม', 'แห่ง', 'ชาติ', 'และ', 'การ', 'ชุมนุม', 'ของ', 'กลุ่มเยาวชน', 'ปลดแอก', 'ที่', 'อนุสาวรีย์ประชาธิปไตย']\n",
            "Epoch 80: Loss 563.3911, LR 9.02E-04, time 19.63016128540039\n",
            "---------------\n",
            "['ม็อบ', 'ปลดแอก', 'ที่', 'อนุสาวรีย์ประชาธิปไตย', 'เมื่อ', 'วัน', 'ที่', '19', 'ก.ย.', 'ที่', 'ผ่าน', 'มา', '<eos>']\n",
            "['ธนาธร', '<unk>', '<unk>', '<unk>', '<unk>', '<unk>', '<unk>', '<unk>', '<unk>', '<unk>', '<unk>', '<unk>', '<unk>', '<unk>', '<unk>', '<unk>', '<unk>', '<unk>', '<unk>', '<unk>']\n",
            "Epoch 100: Loss 553.5994, LR 8.57E-04, time 19.678003787994385\n",
            "---------------\n",
            "['ม็อบ', 'ปลดแอก', 'ได้', 'มี', 'การ', 'ชุมนุม', 'ใน', 'วัน', 'ที่', '19', 'ก.ย.', 'นี้', '<eos>']\n",
            "['ธนาธร', 'จึงรุ่งเรืองกิจ', 'ประธาน', 'คณะ', 'ก้าวหน้า', 'ได้', 'ออก', 'มา', 'เคลื่อนไหว', 'ทาง', 'การ', 'เมือง', 'โดย', 'มี', 'การ', 'เมือง', 'ที่', 'มี', 'การ', 'ยุบ']\n",
            "Epoch 120: Loss 545.5979, LR 8.57E-04, time 19.719195127487183\n",
            "---------------\n",
            "['ม็อบ', 'ปลดแอก', 'และ', 'กลุ่มฟื้นฟู', 'ประชาธิปไตย', 'อันมีพระมหากษัตริย์', 'เป็น', 'ประมุข', 'แห่ง', 'รัฐ', 'เดี่ยว', '\"', '<eos>']\n",
            "['ธนาธร', 'จึงรุ่งเรืองกิจ', 'ประธาน', 'คณะ', 'ก้าวหน้า', 'กล่าว', 'ว่า', 'การ', 'ที่', 'คณะ', 'ก้าวหน้า', 'ได้', 'มี', 'การ', 'นำ', 'เสนอ', 'สุนทรพจน์', 'ระหว่าง', 'วัน', 'ที่']\n",
            "Epoch 140: Loss 537.4089, LR 8.15E-04, time 19.72056794166565\n",
            "---------------\n",
            "['ม็อบ', 'ปลดแอก', 'ที่', 'อนุสาวรีย์ประชาธิปไตย', 'เมื่อ', 'วัน', 'ที่', '19', 'ก.ย.', 'ที่', 'ผ่าน', 'มา', '<eos>']\n",
            "['ธนาธร', 'จึงรุ่งเรืองกิจ', 'ประธาน', 'คณะ', 'ก้าวหน้า', 'กล่าว', 'ว่า', 'การ', 'ปฏิรูป', 'สถาบัน', 'พระมหากษัตริย์', 'เป็น', 'ที่พึ่ง', 'ของ', 'ประชาชน', 'ที่', 'ดี', 'ที่สุด', '<eos>']\n",
            "Epoch 160: Loss 530.2417, LR 7.74E-04, time 19.667911291122437\n",
            "---------------\n",
            "['ม็อบ', 'ปลดแอก', 'ที่', 'อนุสาวรีย์ประชาธิปไตย', 'เมื่อ', 'วัน', 'ที่', '19', 'ก.ย.', 'ที่', 'ผ่าน', 'มา', '<eos>']\n",
            "['ธนาธร', 'จึงรุ่งเรืองกิจ', 'ประธาน', 'คณะ', 'ก้าวหน้า', 'ได้', 'โพสต์', 'ข้อความ', 'ผ่าน', 'เฟซบุ๊ก', 'ส่วน', 'ตัว', 'ระบุ', 'ว่า', '\"', '<eos>']\n",
            "Epoch 180: Loss 525.0378, LR 7.74E-04, time 19.67831063270569\n",
            "---------------\n",
            "['ม็อบ', 'ปลดแอก', 'free', 'youth', 'ได้', 'โพสต์', 'ข้อความ', 'ผ่าน', 'เฟซบุ๊ก', 'ว่า', '\"', '<eos>']\n",
            "['ธนาธร', 'จึงรุ่งเรืองกิจ', 'ประธาน', 'คณะ', 'ก้าวหน้า', 'กล่าว', 'ว่า', 'การ', 'ที่', 'คณะ', 'ก้าวหน้า', 'จะ', 'มี', 'การ', 'ตั้ง', 'คณะ', 'กรรมาธิการ', 'วิสามัญ', 'ศึกษา', 'ปัญหา']\n",
            "Epoch 200: Loss 519.1316, LR 7.35E-04, time 19.66306781768799\n",
            "---------------\n",
            "['ม็อบ', 'ยืดเยื้อ', 'ยาวนาน', 'กว่า', '20', 'ปี', '<eos>']\n",
            "['ธนาธร', 'จึงรุ่งเรืองกิจ', 'ประธาน', 'คณะ', 'ก้าวหน้า', 'กล่าว', 'ว่า', 'การ', 'ที่', 'คณะ', 'ก้าวหน้า', 'จะ', 'มี', 'การ', 'ตั้ง', 'คณะ', 'ก้าวหน้า', 'ขึ้น', 'มา', 'เพื่อ']\n",
            "Epoch 220: Loss 513.3519, LR 6.98E-04, time 19.635157108306885\n",
            "---------------\n",
            "['ม็อบ', 'ปลดแอก', 'ที่', 'อนุสาวรีย์ประชาธิปไตย', 'เมื่อ', 'วัน', 'ที่', '19', 'ก.ย.', 'ที่', 'ผ่าน', 'มา', '<eos>']\n",
            "['ธนาธร', 'จึงรุ่งเรืองกิจ', 'ประธาน', 'คณะ', 'ก้าวหน้า', 'ได้', 'ออก', 'มา', 'เรียกร้อง', 'ให้', 'รัฐบาล', 'ลา', 'ออก', 'จาก', 'ตำแหน่ง', 'รัฐมนตรี', 'ว่าการ', 'กระทรวงศึกษาธิการ', '<eos>']\n",
            "Epoch 240: Loss 509.4641, LR 6.98E-04, time 19.575414657592773\n",
            "---------------\n",
            "['ม็อบ', 'ปลดแอก', 'free', 'youth', 'ได้', 'โพสต์', 'ข้อความ', 'ผ่าน', 'เฟซบุ๊ก', 'ว่า', '\"', '<eos>']\n",
            "['ธนาธร', 'จึงรุ่งเรืองกิจ', 'ประธาน', 'คณะ', 'ก้าวหน้า', 'กล่าว', 'ว่า', 'การ', 'ชุมนุม', 'ของ', 'กลุ่ม', 'ปลดแอก', 'ที่', 'อนุสาวรีย์ประชาธิปไตย', 'เมื่อ', 'วัน', 'ที่', '19', 'ก.ย.', 'ที่']\n",
            "Epoch 260: Loss 504.6863, LR 6.63E-04, time 19.631027936935425\n",
            "---------------\n",
            "['ม็อบ', 'ปลดแอก', 'ที่', 'อนุสาวรีย์ประชาธิปไตย', 'เมื่อ', 'วัน', 'ที่', '19', 'ก.ย.', 'ที่', 'ผ่าน', 'มา', '<eos>']\n",
            "['ธนาธร', 'จึงรุ่งเรืองกิจ', 'ประธาน', 'คณะ', 'ก้าวหน้า', 'ได้', 'ออก', 'มา', 'แถลง', 'การณ์', 'การ', 'ชุมนุม', 'ของ', 'กลุ่ม', 'นัก', 'ศึกษา', 'ที่', 'มี', 'การ', 'ชุมนุม']\n",
            "Epoch 280: Loss 500.0477, LR 6.30E-04, time 19.64320659637451\n",
            "---------------\n",
            "['ม็อบ', 'ปลดแอก', 'ที่', 'อนุสาวรีย์ประชาธิปไตย', 'เมื่อ', 'วัน', 'ที่', '19', 'ก.ย.', 'ที่', 'ผ่าน', 'มา', '<eos>']\n",
            "['ธนาธร', 'จึงรุ่งเรืองกิจ', 'ประธาน', 'คณะ', 'ก้าวหน้า', 'กล่าว', 'ว่า', 'การ', 'ชุมนุม', 'ของ', 'กลุ่ม', 'ปลดแอก', 'ที่', 'อนุสาวรีย์ประชาธิปไตย', 'เมื่อ', 'วัน', 'ที่', '19', 'ก.ย.', 'ที่']\n",
            "Epoch 300: Loss 496.5107, LR 6.30E-04, time 19.658345699310303\n",
            "---------------\n",
            "['ม็อบ', 'ปลดแอก', 'ที่', 'อนุสาวรีย์ประชาธิปไตย', 'เมื่อ', 'วัน', 'ที่', '19', 'ก.ย.', 'ที่', 'ผ่าน', 'มา', '<eos>']\n",
            "['ธนาธร', 'จึงรุ่งเรืองกิจ', 'ประธาน', 'คณะ', 'ก้าวหน้า', 'กล่าว', 'ว่า', 'การ', 'ที่', 'คณะ', 'ก้าวหน้า', 'จะ', 'มี', 'การ', 'ตั้ง', 'คณะ', 'ก้าวหน้า', 'ขึ้น', 'มา', 'เพื่อ']\n",
            "Epoch 320: Loss 492.7030, LR 5.99E-04, time 19.696865797042847\n",
            "---------------\n",
            "['ม็อบ', 'ปลดแอก', 'ที่', 'อนุสาวรีย์ประชาธิปไตย', 'ล่าสุด', 'วัน', 'นี้', '(', '18', 'ส.ค.', ')', 'มี', 'รายงาน', 'ว่า', 'เมื่อ', 'วัน', 'ที่', '19', 'ก.ย.', 'ที่']\n",
            "['ธนาธร', 'จึงรุ่งเรืองกิจ', 'ประธาน', 'คณะ', 'ก้าวหน้า', 'ได้', 'ออก', 'มา', 'เรียกร้อง', 'ให้', 'รัฐบาล', 'ลา', 'ออก', 'จาก', 'ตำแหน่ง', 'รัฐมนตรี', 'ลา', 'ออก', 'จาก', 'ตำแหน่ง']\n",
            "Epoch 340: Loss 489.1350, LR 5.69E-04, time 19.685587406158447\n",
            "---------------\n",
            "['ม็อบ', 'ยืดเยื้อ', 'ยาวนาน', '<eos>']\n",
            "['ธนาธร', 'จึงรุ่งเรืองกิจ', 'ประธาน', 'คณะ', 'ก้าวหน้า', 'ได้', 'ออก', 'มา', 'ขอโทษ', 'ต่อ', 'สังคม', 'โดย', 'ตลอด', '<eos>']\n",
            "Epoch 360: Loss 485.7124, LR 5.69E-04, time 19.669180631637573\n",
            "---------------\n",
            "['ม็อบ', 'ปลดแอก', 'ที่', 'มี', 'การ', 'ชุมนุม', 'ใหญ่', 'ใน', 'วัน', 'ที่', '19', 'ก.ย.', 'นี้', '<eos>']\n",
            "['ธนาธร', 'จึงรุ่งเรืองกิจ', 'ประธาน', 'คณะ', 'ก้าวหน้า', 'ได้', 'ออก', 'มา', 'เรียกร้อง', 'ให้', 'รัฐบาล', 'ลา', 'ออก', 'จาก', 'ตำแหน่ง', 'รัฐมนตรี', 'ลา', 'ออก', 'จาก', 'ตำแหน่ง']\n",
            "Epoch 380: Loss 482.7177, LR 5.40E-04, time 19.722492456436157\n",
            "---------------\n",
            "['ม็อบ', 'ยืดเยื้อ', 'ยาวนาน', '<eos>']\n",
            "['ธนาธร', 'จึงรุ่งเรืองกิจ', 'ประธาน', 'คณะ', 'ก้าวหน้า', 'ได้', 'ออก', 'มา', 'เรียกร้อง', 'ให้', 'รัฐบาล', 'ลา', 'ออก', 'จาก', 'ตำแหน่ง', 'รัฐมนตรี', 'ลา', 'ออก', 'จาก', 'ตำแหน่ง']\n",
            "Epoch 400: Loss 479.7699, LR 5.13E-04, time 19.71275234222412\n",
            "---------------\n"
          ],
          "name": "stdout"
        }
      ]
    },
    {
      "cell_type": "code",
      "metadata": {
        "id": "3IY-pkQo4533",
        "outputId": "5a02bd3d-0617-4681-9775-c562bec829aa",
        "colab": {
          "base_uri": "https://localhost:8080/",
          "height": 366
        }
      },
      "source": [
        "import matplotlib.pyplot as plt\n",
        "\n",
        "plt.figure(dpi=90)\n",
        "plt.plot(range(len(losses)), losses)\n",
        "plt.xlabel(\"epochs\"); plt.ylabel(\"Loss\")\n",
        "_ = plt.title(\"Loss on training set\")"
      ],
      "execution_count": null,
      "outputs": [
        {
          "output_type": "display_data",
          "data": {
            "image/png": "[encoded data removed]",
            "text/plain": [
              "<Figure size 540x360 with 1 Axes>"
            ]
          },
          "metadata": {
            "tags": [],
            "needs_background": "light"
          }
        }
      ]
    },
    {
      "cell_type": "markdown",
      "metadata": {
        "id": "DmsB818k75H0"
      },
      "source": [
        "# Fine-tune on Cheerlung and Awesome-salim-quotes\n",
        "- Freeze the trained model's parameters\n",
        "- Reset the last layer\n",
        "- Fine-tune (i.e. train the last layer to adjust to a new dataset)"
      ]
    },
    {
      "cell_type": "code",
      "metadata": {
        "id": "PnEBROmeYjVm"
      },
      "source": [
        "# Freeze model parameter\n",
        "\n",
        "for param in model.parameters():\n",
        "  param.requires_grad = False"
      ],
      "execution_count": null,
      "outputs": []
    },
    {
      "cell_type": "markdown",
      "metadata": {
        "id": "8j-l-D7DNige"
      },
      "source": [
        "## Fine-tune on Cheerlung"
      ]
    },
    {
      "cell_type": "code",
      "metadata": {
        "id": "wLOXJkU2Yjcp"
      },
      "source": [
        "# Replace last layer (decoder) with a new one\n",
        "model.decoder = nn.Linear(d_model, n_tokens).to(device)"
      ],
      "execution_count": null,
      "outputs": []
    },
    {
      "cell_type": "code",
      "metadata": {
        "id": "jEALcqJr-7I-"
      },
      "source": [
        "lr = 5e-3\n",
        "optimizer = torch.optim.Adam(model.parameters(), lr=lr)\n",
        "scheduler = torch.optim.lr_scheduler.StepLR(optimizer, 20, gamma=0.9)"
      ],
      "execution_count": null,
      "outputs": []
    },
    {
      "cell_type": "code",
      "metadata": {
        "id": "t5xTca8pKwb6"
      },
      "source": [
        "n_epochs = 200\n",
        "ft_losses = []"
      ],
      "execution_count": null,
      "outputs": []
    },
    {
      "cell_type": "code",
      "metadata": {
        "id": "_4CxYZPJ8Jh_",
        "outputId": "a7bf5d46-860b-4e54-9247-f95aea55696a",
        "colab": {
          "base_uri": "https://localhost:8080/"
        }
      },
      "source": [
        "for epoch in range(1, n_epochs + 1):\n",
        "    epoch_start_time = time.time()\n",
        "    tr_loss = train(model, finetune_iter)\n",
        "    ft_losses.append(tr_loss)\n",
        "    epoch_end_time = time.time()\n",
        "    if epoch % 10 == 0:\n",
        "      val_loss = evaluate(model, finetune_iter)\n",
        "      print(generate(model, \"ม็อบ\"))\n",
        "      print(generate(model, \"ธนาธร\"))\n",
        "      print(out_format.format(epoch, val_loss, scheduler.get_last_lr()[0], epoch_end_time - epoch_start_time))\n",
        "      print('-' * 15)\n",
        "\n",
        "    scheduler.step()"
      ],
      "execution_count": null,
      "outputs": [
        {
          "output_type": "stream",
          "text": [
            "['ม็อบ', 'สาร', 'เลว', '<eos>']\n",
            "['ธนาธร', 'อ้าง', 'ชักจูง', 'โพสต์เฟซบุ๊ก', '<unk>', '<unk>', '<unk>', '<unk>', '<unk>', '<unk>', '<unk>', '<unk>', '<unk>', '<unk>', '<unk>', '<unk>', '<unk>', '<unk>', '<unk>', '<unk>']\n",
            "Epoch 10: Loss 329.0825, LR 5.00E-03, time 2.073160409927368\n",
            "---------------\n",
            "['ม็อบ', 'สาร', 'เลว', '<eos>']\n",
            "['ธนาธร', 'อ้าง', 'ชักจูง', 'โพสต์เฟซบุ๊ก', 'กระทำ', 'ผิด', 'ยุยง', 'ปลุกปั่น', 'ละเมิด', 'สถาบัน', 'พระมหากษัตริย์', '<eos>']\n",
            "Epoch 20: Loss 320.1577, LR 5.00E-03, time 2.0244083404541016\n",
            "---------------\n",
            "['ม็อบ', 'สาร', 'เลว', '<eos>']\n",
            "['ธนาธร', 'อ้าง', 'ชักจูง', 'โพสต์เฟซบุ๊ก', 'กระทำ', 'คืบหน้า', 'คดี', 'ทำร้าย', 'ละเมิด', 'สิทธิ', 'มนุษยชน', 'ละเมิด', 'สิทธิ', 'มนุษยชน', '<eos>']\n",
            "Epoch 30: Loss 315.4570, LR 4.50E-03, time 2.128450870513916\n",
            "---------------\n",
            "['ม็อบ', 'สาร', 'เลว', '<eos>']\n",
            "['ธนาธร', '<eos>']\n",
            "Epoch 40: Loss 313.7569, LR 4.50E-03, time 2.05698299407959\n",
            "---------------\n",
            "['ม็อบ', 'สาร', 'เลว', '<eos>']\n",
            "['ธนาธร', 'อ้าง', 'ชักจูง', 'โพสต์เฟซบุ๊ก', 'กระทำ', 'ผิด', 'ยุยง', 'ปลุกปั่น', 'ละเมิด', 'สถาบัน', 'พระมหากษัตริย์', 'ทั้งสิ้น', '<eos>']\n",
            "Epoch 50: Loss 310.9082, LR 4.05E-03, time 2.0626096725463867\n",
            "---------------\n",
            "['ม็อบ', 'สาร', 'เลว', '<eos>']\n",
            "['ธนาธร', 'อ้าง', 'ชักจูง', 'โพสต์เฟซบุ๊ก', 'กระทำ', 'ผิด', 'ยุยง', 'ปลุกปั่น', 'ละเมิด', 'สถาบัน', 'พระมหากษัตริย์', '<eos>']\n",
            "Epoch 60: Loss 310.4110, LR 4.05E-03, time 2.061044692993164\n",
            "---------------\n",
            "['ม็อบ', 'สาร', 'เลว', '<eos>']\n",
            "['ธนาธร', 'อ้าง', 'ชักจูง', 'โพสต์เฟซบุ๊ก', 'กระทำ', 'คืบหน้า', 'การ', 'ละเมิด', 'สิทธิ', 'ประโยชน์', 'ของ', 'ช่อ', '<eos>']\n",
            "Epoch 70: Loss 308.7815, LR 3.65E-03, time 2.0653464794158936\n",
            "---------------\n",
            "['ม็อบ', 'สาร', 'เลว', '<eos>']\n",
            "['ธนาธร', 'อ้าง', 'ชักจูง', 'โพสต์เฟซบุ๊ก', 'กระทำ', 'คืบหน้า', 'การ', 'ละเมิด', 'ข้อ', 'เท็จจริง', '<eos>']\n",
            "Epoch 80: Loss 308.8227, LR 3.65E-03, time 2.085528612136841\n",
            "---------------\n",
            "['ม็อบ', 'สาร', 'เลว', '<eos>']\n",
            "['ธนาธร', 'อ้าง', 'ชักจูง', 'โพสต์เฟซบุ๊ก', '<unk>', '<unk>', '<unk>', '<unk>', '<unk>', '<unk>', '<unk>', '<unk>', '<unk>', '<unk>', '<unk>', '<unk>', '<unk>', '<unk>', '<unk>', '<unk>']\n",
            "Epoch 90: Loss 307.1427, LR 3.28E-03, time 2.0807862281799316\n",
            "---------------\n",
            "['ม็อบ', 'สาร', 'เลว', '<eos>']\n",
            "['ธนาธร', 'อ้าง', 'ชักจูง', 'โพสต์เฟซบุ๊ก', 'กระทำ', 'ผิด', 'ยุยง', 'ปลุกปั่น', 'ละเมิด', 'สถาบัน', 'พระมหากษัตริย์', '<eos>']\n",
            "Epoch 100: Loss 306.9708, LR 3.28E-03, time 2.0709574222564697\n",
            "---------------\n",
            "['ม็อบ', 'สาร', 'เลว', '<eos>']\n",
            "['ธนาธร', 'อ้าง', 'ชักจูง', 'โพสต์เฟซบุ๊ก', 'กระทำ', 'ผิด', 'ยุยง', 'ปลุกปั่น', 'ละเมิด', 'สถาบัน', 'พระมหากษัตริย์', '<eos>']\n",
            "Epoch 110: Loss 305.6782, LR 2.95E-03, time 2.135435104370117\n",
            "---------------\n",
            "['ม็อบ', 'สาร', 'เลว', '<eos>']\n",
            "['ธนาธร', 'อ้าง', 'ชักจูง', 'โพสต์เฟซบุ๊ก', 'กระทำ', 'ผิด', 'ยุยง', 'ปลุกปั่น', 'ละเมิด', 'สถาบัน', 'พระมหากษัตริย์', 'ทั้งสิ้น', '<eos>']\n",
            "Epoch 120: Loss 305.3320, LR 2.95E-03, time 2.0494415760040283\n",
            "---------------\n",
            "['ม็อบ', 'สาร', 'เลว', '<eos>']\n",
            "['ธนาธร', 'อ้าง', 'ชักจูง', 'โพสต์เฟซบุ๊ก', 'กระทำ', 'ผิด', 'ยุยง', 'ปลุกปั่น', 'ละเมิด', 'สถาบัน', 'พระมหากษัตริย์', '<eos>']\n",
            "Epoch 130: Loss 304.8398, LR 2.66E-03, time 2.0411217212677\n",
            "---------------\n",
            "['ม็อบ', 'สาร', 'เลว', '<eos>']\n",
            "['ธนาธร', 'อ้าง', 'ชักจูง', 'โพสต์เฟซบุ๊ก', 'กระทำ', 'ผิด', 'ยุยง', 'ปลุกปั่น', 'ละเมิด', 'สถาบัน', 'พระมหากษัตริย์', '<eos>']\n",
            "Epoch 140: Loss 304.3197, LR 2.66E-03, time 2.0814719200134277\n",
            "---------------\n",
            "['ม็อบ', 'สาร', 'เลว', '<eos>']\n",
            "['ธนาธร', 'อ้าง', 'ชักจูง', 'โพสต์เฟซบุ๊ก', 'กระทำ', 'ผิด', 'ยุยง', 'ปลุกปั่น', 'ละเมิด', 'สถาบัน', 'พระมหากษัตริย์', '<eos>']\n",
            "Epoch 150: Loss 303.6033, LR 2.39E-03, time 2.0572640895843506\n",
            "---------------\n",
            "['ม็อบ', 'สาร', 'เลว', '<eos>']\n",
            "['ธนาธร', 'อ้าง', 'ชักจูง', 'โพสต์เฟซบุ๊ก', 'กระทำ', 'ผิด', 'ยุยง', 'ปลุกปั่น', 'ละเมิด', 'สถาบัน', 'พระมหากษัตริย์', '<eos>']\n",
            "Epoch 160: Loss 303.4244, LR 2.39E-03, time 2.043341636657715\n",
            "---------------\n",
            "['ม็อบ', 'สาร', 'เลว', '<eos>']\n",
            "['ธนาธร', 'อ้าง', 'ชักจูง', 'โพสต์เฟซบุ๊ก', 'กระทำ', 'ผิด', 'ยุยง', 'ปลุกปั่น', 'ละเมิด', 'สถาบัน', 'พระมหากษัตริย์', '<eos>']\n",
            "Epoch 170: Loss 302.7986, LR 2.15E-03, time 2.057905673980713\n",
            "---------------\n",
            "['ม็อบ', 'สาร', 'เลว', '<eos>']\n",
            "['ธนาธร', 'อ้าง', 'ชักจูง', 'โพสต์เฟซบุ๊ก', 'กระทำ', 'ผิด', 'ยุยง', 'ปลุกปั่น', 'ละเมิด', 'สถาบัน', 'พระมหากษัตริย์', '<eos>']\n",
            "Epoch 180: Loss 302.8083, LR 2.15E-03, time 2.096414089202881\n",
            "---------------\n",
            "['ม็อบ', 'สาร', 'เลว', '<eos>']\n",
            "['ธนาธร', 'อ้าง', 'ชักจูง', 'โพสต์เฟซบุ๊ก', 'กระทำ', 'ผิด', 'ยุยง', 'ปลุกปั่น', 'ละเมิด', 'สถาบัน', 'พระมหากษัตริย์', '<eos>']\n",
            "Epoch 190: Loss 301.7753, LR 1.94E-03, time 2.1358470916748047\n",
            "---------------\n",
            "['ม็อบ', 'สาร', 'เลว', '<eos>']\n",
            "['ธนาธร', 'อ้าง', 'ชักจูง', 'โพสต์เฟซบุ๊ก', 'กระทำ', 'คืบหน้า', 'การ', 'ละเมิด', 'สิทธิ', 'ของ', 'ประชาชน', '<eos>']\n",
            "Epoch 200: Loss 301.9705, LR 1.94E-03, time 2.0890958309173584\n",
            "---------------\n"
          ],
          "name": "stdout"
        }
      ]
    },
    {
      "cell_type": "code",
      "metadata": {
        "id": "XutuxyrOT3sk",
        "outputId": "30acf9ab-86e7-4803-a507-9ff363dc919d",
        "colab": {
          "base_uri": "https://localhost:8080/",
          "height": 366
        }
      },
      "source": [
        "plt.figure(dpi=90)\n",
        "plt.plot(range(len(ft_losses)), ft_losses)\n",
        "plt.xlabel(\"epochs\"); plt.ylabel(\"Loss\")\n",
        "_ = plt.title(\"Loss on tuning Cheerlung\")"
      ],
      "execution_count": null,
      "outputs": [
        {
          "output_type": "display_data",
          "data": {
            "image/png": "[encoded data removed]",
            "text/plain": [
              "<Figure size 540x360 with 1 Axes>"
            ]
          },
          "metadata": {
            "tags": [],
            "needs_background": "light"
          }
        }
      ]
    },
    {
      "cell_type": "code",
      "metadata": {
        "id": "YmvcopvXvDSq",
        "outputId": "9bc533a3-84b1-48e5-ade2-cf6a732c547b",
        "colab": {
          "base_uri": "https://localhost:8080/"
        }
      },
      "source": [
        "print(generate(model, \"รัก\"))\n",
        "print(generate(model, \"ลุง\"))"
      ],
      "execution_count": null,
      "outputs": [
        {
          "output_type": "stream",
          "text": [
            "['รัก', 'ชาติ', 'ศาสนา', 'พระมหากษัตริย์', '<eos>']\n",
            "['ลุง', 'ป้อม', '<eos>']\n"
          ],
          "name": "stdout"
        }
      ]
    },
    {
      "cell_type": "code",
      "metadata": {
        "id": "62U7UqTqXi21"
      },
      "source": [
        "# Save model\n",
        "model_save_path = \"io-lm-cheerlung.pkl\"\n",
        "\n",
        "torch.save(model.state_dict(), model_save_path)"
      ],
      "execution_count": null,
      "outputs": []
    },
    {
      "cell_type": "markdown",
      "metadata": {
        "id": "DmMhvcG3NVYl"
      },
      "source": [
        "## Fine-tune on Awesome-salim-quotes"
      ]
    },
    {
      "cell_type": "code",
      "metadata": {
        "id": "qTZdXmTANCm6"
      },
      "source": [
        "model.decoder = nn.Linear(d_model, n_tokens).to(device)\n",
        "\n",
        "lr = 1e-2\n",
        "optimizer = torch.optim.Adam(model.parameters(), lr=lr)\n",
        "scheduler = torch.optim.lr_scheduler.StepLR(optimizer, 20, gamma=0.95)\n",
        "\n",
        "n_epochs = 200\n",
        "ft_asq_losses = []"
      ],
      "execution_count": null,
      "outputs": []
    },
    {
      "cell_type": "code",
      "metadata": {
        "id": "v-fL5XiuNIzF",
        "outputId": "35a3c9b6-8b9d-47c9-e1f9-b3ccd4718a6e",
        "colab": {
          "base_uri": "https://localhost:8080/"
        }
      },
      "source": [
        "for epoch in range(1, n_epochs + 1):\n",
        "    epoch_start_time = time.time()\n",
        "    tr_loss = train(model, finetune_asq_iter)\n",
        "    ft_asq_losses.append(tr_loss)\n",
        "    epoch_end_time = time.time()\n",
        "    if epoch % 10 == 0:\n",
        "      val_loss = evaluate(model, finetune_asq_iter)\n",
        "      print(generate(model, \"ม็อบ\"))\n",
        "      print(generate(model, \"ธนาธร\"))\n",
        "      print(out_format.format(epoch, val_loss, scheduler.get_last_lr()[0], epoch_end_time - epoch_start_time))\n",
        "      print('-' * 15)\n",
        "\n",
        "    scheduler.step()"
      ],
      "execution_count": null,
      "outputs": [
        {
          "output_type": "stream",
          "text": [
            "['ม็อบ', 'มุ้งมิ้ง', '<eos>']\n",
            "['ธนาธร', '<eos>']\n",
            "Epoch 10: Loss 3.2301, LR 1.00E-02, time 0.07348036766052246\n",
            "---------------\n",
            "['ม็อบ', 'มุ้งมิ้ง', '<eos>']\n",
            "['ธนาธร', '<eos>']\n",
            "Epoch 20: Loss 2.4677, LR 1.00E-02, time 0.05993008613586426\n",
            "---------------\n",
            "['ม็อบ', '<eos>']\n",
            "['ธนาธร', '<eos>']\n",
            "Epoch 30: Loss 2.2510, LR 9.50E-03, time 0.05913853645324707\n",
            "---------------\n",
            "['ม็อบ', 'มุ้งมิ้ง', '<eos>']\n",
            "['ธนาธร', '<eos>']\n",
            "Epoch 40: Loss 2.1673, LR 9.50E-03, time 0.0595698356628418\n",
            "---------------\n",
            "['ม็อบ', 'มุ้งมิ้ง', '<eos>']\n",
            "['ธนาธร', '<eos>']\n",
            "Epoch 50: Loss 2.0793, LR 9.03E-03, time 0.05979561805725098\n",
            "---------------\n",
            "['ม็อบ', 'มุ้งมิ้ง', '<eos>']\n",
            "['ธนาธร', '<eos>']\n",
            "Epoch 60: Loss 2.0189, LR 9.03E-03, time 0.06173515319824219\n",
            "---------------\n",
            "['ม็อบ', 'มุ้งมิ้ง', '<eos>']\n",
            "['ธนาธร', '<eos>']\n",
            "Epoch 70: Loss 2.0137, LR 8.57E-03, time 0.07434201240539551\n",
            "---------------\n",
            "['ม็อบ', 'มุ้งมิ้ง', '<eos>']\n",
            "['ธนาธร', '<eos>']\n",
            "Epoch 80: Loss 1.9745, LR 8.57E-03, time 0.07861733436584473\n",
            "---------------\n",
            "['ม็อบ', 'มุ้งมิ้ง', '<eos>']\n",
            "['ธนาธร', '<eos>']\n",
            "Epoch 90: Loss 1.9059, LR 8.15E-03, time 0.07574796676635742\n",
            "---------------\n",
            "['ม็อบ', 'มุ้งมิ้ง', '<eos>']\n",
            "['ธนาธร', '<eos>']\n",
            "Epoch 100: Loss 1.9327, LR 8.15E-03, time 0.05941414833068848\n",
            "---------------\n",
            "['ม็อบ', 'มุ้งมิ้ง', '<eos>']\n",
            "['ธนาธร', '<eos>']\n",
            "Epoch 110: Loss 1.9045, LR 7.74E-03, time 0.05950927734375\n",
            "---------------\n",
            "['ม็อบ', 'มุ้งมิ้ง', '<eos>']\n",
            "['ธนาธร', '<eos>']\n",
            "Epoch 120: Loss 1.8776, LR 7.74E-03, time 0.05987191200256348\n",
            "---------------\n",
            "['ม็อบ', 'มุ้งมิ้ง', '<eos>']\n",
            "['ธนาธร', '<eos>']\n",
            "Epoch 130: Loss 1.9021, LR 7.35E-03, time 0.059299468994140625\n",
            "---------------\n",
            "['ม็อบ', '<eos>']\n",
            "['ธนาธร', '<eos>']\n",
            "Epoch 140: Loss 1.8724, LR 7.35E-03, time 0.05941486358642578\n",
            "---------------\n",
            "['ม็อบ', 'มุ้งมิ้ง', '<eos>']\n",
            "['ธนาธร', '<eos>']\n",
            "Epoch 150: Loss 1.8737, LR 6.98E-03, time 0.06184196472167969\n",
            "---------------\n",
            "['ม็อบ', 'มุ้งมิ้ง', '<eos>']\n",
            "['ธนาธร', '<eos>']\n",
            "Epoch 160: Loss 1.8541, LR 6.98E-03, time 0.060442209243774414\n",
            "---------------\n",
            "['ม็อบ', 'มุ้งมิ้ง', '<eos>']\n",
            "['ธนาธร', '<eos>']\n",
            "Epoch 170: Loss 1.8569, LR 6.63E-03, time 0.059844255447387695\n",
            "---------------\n",
            "['ม็อบ', 'มุ้งมิ้ง', '<eos>']\n",
            "['ธนาธร', '<eos>']\n",
            "Epoch 180: Loss 1.8922, LR 6.63E-03, time 0.06109976768493652\n",
            "---------------\n",
            "['ม็อบ', 'มุ้งมิ้ง', '<eos>']\n",
            "['ธนาธร', '<eos>']\n",
            "Epoch 190: Loss 1.8536, LR 6.30E-03, time 0.05931496620178223\n",
            "---------------\n",
            "['ม็อบ', 'มุ้งมิ้ง', '<eos>']\n",
            "['ธนาธร', '<eos>']\n",
            "Epoch 200: Loss 1.8400, LR 6.30E-03, time 0.059433937072753906\n",
            "---------------\n"
          ],
          "name": "stdout"
        }
      ]
    },
    {
      "cell_type": "code",
      "metadata": {
        "id": "0ilxhYwqZjie",
        "outputId": "1b00c016-ee2a-47e2-ad66-d1c91696676e",
        "colab": {
          "base_uri": "https://localhost:8080/",
          "height": 366
        }
      },
      "source": [
        "plt.figure(dpi=90)\n",
        "plt.plot(range(len(ft_asq_losses)), ft_asq_losses)\n",
        "plt.xlabel(\"epochs\"); plt.ylabel(\"Loss\")\n",
        "_ = plt.title(\"Loss on tuning Awesome-salim-quotes\")"
      ],
      "execution_count": null,
      "outputs": [
        {
          "output_type": "display_data",
          "data": {
            "image/png": "[encoded data removed]",
            "text/plain": [
              "<Figure size 540x360 with 1 Axes>"
            ]
          },
          "metadata": {
            "tags": [],
            "needs_background": "light"
          }
        }
      ]
    },
    {
      "cell_type": "code",
      "metadata": {
        "id": "gGrjCIDBPZIR",
        "outputId": "10b4e61d-fa6e-4f42-9214-b8023209992f",
        "colab": {
          "base_uri": "https://localhost:8080/"
        }
      },
      "source": [
        "print(generate(model, \"รัก\"))\n",
        "print(generate(model, \"ลุงตู่เป็น\"))"
      ],
      "execution_count": null,
      "outputs": [
        {
          "output_type": "stream",
          "text": [
            "['รัก', 'ปกป้อง', 'สถาบัน', '<eos>']\n",
            "['ลุงตู่', 'เป็น', 'คน', 'ดี', '<eos>']\n"
          ],
          "name": "stdout"
        }
      ]
    },
    {
      "cell_type": "code",
      "metadata": {
        "id": "iMuYc0FFPm5f",
        "outputId": "29d51ced-c626-49ae-9597-77f28956796f",
        "colab": {
          "base_uri": "https://localhost:8080/"
        }
      },
      "source": [
        "print(generate(model, \"ม็อบแม้ว\"))\n",
        "print(generate(model, \"พ่อ\"))"
      ],
      "execution_count": null,
      "outputs": [
        {
          "output_type": "stream",
          "text": [
            "['ม็อบ', 'แม้ว', 'ซื้อ', 'ไป', 'แล้ว', '<eos>']\n",
            "['พ่อ', 'มอง', 'ลง', 'มา', 'พ่อ', 'จะ', 'รู้สึก', 'ไม่', 'รู้สึก', '<unk>', 'พ่อ', 'เรา', 'ก่อน', 'จะ', 'รู้สึก', '<unk>', 'พ่อ', 'เรา', 'ก่อน', 'จะ']\n"
          ],
          "name": "stdout"
        }
      ]
    },
    {
      "cell_type": "code",
      "metadata": {
        "id": "GtaMZXBFXrWb"
      },
      "source": [
        "# Save model\n",
        "model_save_path = \"io-lm-asq.pkl\"\n",
        "\n",
        "torch.save(model.state_dict(), model_save_path)"
      ],
      "execution_count": null,
      "outputs": []
    },
    {
      "cell_type": "markdown",
      "metadata": {
        "id": "5qPSPM2XWRRL"
      },
      "source": [
        "# Load the saved model"
      ]
    },
    {
      "cell_type": "code",
      "metadata": {
        "id": "GyPDzK_OVxZZ"
      },
      "source": [
        "model_save_path = \"io-lm-asq.pkl\""
      ],
      "execution_count": null,
      "outputs": []
    },
    {
      "cell_type": "code",
      "metadata": {
        "id": "SPP2AdAeWvXW",
        "outputId": "1ffc6d7c-e3d7-43d7-ef3a-1fd5b5787546",
        "colab": {
          "base_uri": "https://localhost:8080/"
        }
      },
      "source": [
        "model_loaded = TransformerSmall(n_tokens, d_model, n_heads, n_hid, n_layers).to(device)\n",
        "model_loaded.load_state_dict(torch.load(model_save_path))\n",
        "model_loaded.eval()"
      ],
      "execution_count": null,
      "outputs": [
        {
          "output_type": "execute_result",
          "data": {
            "text/plain": [
              "TransformerSmall(\n",
              "  (pos_encoder): PositionalEncoding(\n",
              "    (dropout): Dropout(p=0.2, inplace=False)\n",
              "  )\n",
              "  (encoder): TransformerEncoder(\n",
              "    (layers): ModuleList(\n",
              "      (0): TransformerEncoderLayer(\n",
              "        (self_attn): MultiheadAttention(\n",
              "          (out_proj): _LinearWithBias(in_features=256, out_features=256, bias=True)\n",
              "        )\n",
              "        (linear1): Linear(in_features=256, out_features=256, bias=True)\n",
              "        (dropout): Dropout(p=0.2, inplace=False)\n",
              "        (linear2): Linear(in_features=256, out_features=256, bias=True)\n",
              "        (norm1): LayerNorm((256,), eps=1e-05, elementwise_affine=True)\n",
              "        (norm2): LayerNorm((256,), eps=1e-05, elementwise_affine=True)\n",
              "        (dropout1): Dropout(p=0.2, inplace=False)\n",
              "        (dropout2): Dropout(p=0.2, inplace=False)\n",
              "      )\n",
              "      (1): TransformerEncoderLayer(\n",
              "        (self_attn): MultiheadAttention(\n",
              "          (out_proj): _LinearWithBias(in_features=256, out_features=256, bias=True)\n",
              "        )\n",
              "        (linear1): Linear(in_features=256, out_features=256, bias=True)\n",
              "        (dropout): Dropout(p=0.2, inplace=False)\n",
              "        (linear2): Linear(in_features=256, out_features=256, bias=True)\n",
              "        (norm1): LayerNorm((256,), eps=1e-05, elementwise_affine=True)\n",
              "        (norm2): LayerNorm((256,), eps=1e-05, elementwise_affine=True)\n",
              "        (dropout1): Dropout(p=0.2, inplace=False)\n",
              "        (dropout2): Dropout(p=0.2, inplace=False)\n",
              "      )\n",
              "      (2): TransformerEncoderLayer(\n",
              "        (self_attn): MultiheadAttention(\n",
              "          (out_proj): _LinearWithBias(in_features=256, out_features=256, bias=True)\n",
              "        )\n",
              "        (linear1): Linear(in_features=256, out_features=256, bias=True)\n",
              "        (dropout): Dropout(p=0.2, inplace=False)\n",
              "        (linear2): Linear(in_features=256, out_features=256, bias=True)\n",
              "        (norm1): LayerNorm((256,), eps=1e-05, elementwise_affine=True)\n",
              "        (norm2): LayerNorm((256,), eps=1e-05, elementwise_affine=True)\n",
              "        (dropout1): Dropout(p=0.2, inplace=False)\n",
              "        (dropout2): Dropout(p=0.2, inplace=False)\n",
              "      )\n",
              "    )\n",
              "  )\n",
              "  (embedding): Embedding(12147, 256)\n",
              "  (decoder): Linear(in_features=256, out_features=12147, bias=True)\n",
              ")"
            ]
          },
          "metadata": {
            "tags": []
          },
          "execution_count": 47
        }
      ]
    },
    {
      "cell_type": "code",
      "metadata": {
        "id": "6_GbU4d6W8YN",
        "outputId": "3e924681-c032-4b50-fc74-650419208758",
        "colab": {
          "base_uri": "https://localhost:8080/"
        }
      },
      "source": [
        "generate(model_loaded, \"ท่านเหนื่อย\", 50)"
      ],
      "execution_count": null,
      "outputs": [
        {
          "output_type": "execute_result",
          "data": {
            "text/plain": [
              "['ท่าน', 'เหนื่อย', 'นะ', '<eos>']"
            ]
          },
          "metadata": {
            "tags": []
          },
          "execution_count": 48
        }
      ]
    },
    {
      "cell_type": "code",
      "metadata": {
        "id": "bbB0Bm89PiKM"
      },
      "source": [
        ""
      ],
      "execution_count": null,
      "outputs": []
    }
  ]
}