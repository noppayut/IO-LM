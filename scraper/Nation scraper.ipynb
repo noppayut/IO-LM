{
 "cells": [
  {
   "cell_type": "markdown",
   "metadata": {},
   "source": [
    "# Scrape and save news from `nation.tv` to dataframe\n",
    "\n",
    "## Getting started\n",
    "1. `latest_news_id`: to the newest `news id` (or any id you want to start scraping)\n",
    "2. `n_limits`: the total no. of articels to be fetched\n",
    "\n",
    "`news id` can be found in the news url after `/content/`.\n",
    "\n",
    "In this case, `news id` is `378805944`.\n",
    "\n",
    "```\n",
    "https://www.nationtv.tv/main/content/`378805944`?utm_source=category&utm_medium=internal_referral&utm_campaign=politics\n",
    "```\n",
    "\n",
    "## How it works\n",
    "\n",
    "There's no way to tell a news category from `news id`, that leaves no other choices but to download and check\n",
    "\n",
    "1. Get `news id` news\n",
    "2. Check its category, if it's either การเมือง or พระราชสำหนัก, keep it, unless discard\n",
    "3. Subtract `news id` by one\n",
    "4. Repeat 1.-3. until getting `n_limits` news\n",
    "\n",
    "```python\n",
    "while not reaching `n_limits`:\n",
    "    article = get_news_from_url(news_id)\n",
    "    if article.category in ['การเมือง', 'ข่าวในพระราชสำนัก']:\n",
    "        add_to_news_list(article)\n",
    "    else:\n",
    "        continue\n",
    "    news_id -= 1\n",
    "```"
   ]
  },
  {
   "cell_type": "code",
   "execution_count": 1,
   "metadata": {},
   "outputs": [],
   "source": [
    "import pandas as pd\n",
    "\n",
    "import requests\n",
    "\n",
    "import bs4\n",
    "from bs4 import BeautifulSoup"
   ]
  },
  {
   "cell_type": "markdown",
   "metadata": {},
   "source": [
    "## Set up here"
   ]
  },
  {
   "cell_type": "code",
   "execution_count": 2,
   "metadata": {},
   "outputs": [],
   "source": [
    "url_template = \"https://www.nationtv.tv/main/content/{}\"\n",
    "latest_news_id = 378805944"
   ]
  },
  {
   "cell_type": "code",
   "execution_count": 3,
   "metadata": {},
   "outputs": [],
   "source": [
    "save_path = \"nation_politics_{}.csv\""
   ]
  },
  {
   "cell_type": "code",
   "execution_count": 4,
   "metadata": {},
   "outputs": [],
   "source": [
    "allowed_categs = ['การเมือง', 'ข่าวในพระราชสำนัก']\n",
    "n_limits = 4000"
   ]
  },
  {
   "cell_type": "markdown",
   "metadata": {},
   "source": [
    "## Working code"
   ]
  },
  {
   "cell_type": "code",
   "execution_count": 5,
   "metadata": {},
   "outputs": [],
   "source": [
    "def get_news_from_url(news_id):\n",
    "    response = requests.get(url_template.format(news_id))\n",
    "    html_body_str = response.text\n",
    "    return html_body_str"
   ]
  },
  {
   "cell_type": "code",
   "execution_count": 6,
   "metadata": {},
   "outputs": [],
   "source": [
    "body_str = get_news_from_url(latest_news_id - 999)"
   ]
  },
  {
   "cell_type": "code",
   "execution_count": 7,
   "metadata": {},
   "outputs": [],
   "source": [
    "soup = BeautifulSoup(body_str, 'html.parser')"
   ]
  },
  {
   "cell_type": "code",
   "execution_count": 8,
   "metadata": {
    "scrolled": true
   },
   "outputs": [
    {
     "data": {
      "text/plain": [
       "'<!DOCTYPE html>\\n\\n<html dir=\"ltr\" lang=\"en\">\\n<head>\\n<title>สโมสรสมาชิก โหวต บิ๊กป้อมนั่งเก้าอี้ส.ว่ายน้ำสมัย2</title>\\n<meta charset=\"utf-8\"/>\\n<meta content=\"IE=edge,chrome=1\" http-equiv=\"X-UA-Compatible\"/>\\n<meta content=\"width=device-width, height=device-height, initial-scale=1\" name=\"viewport\"/>\\n<meta content=\"ประชุมใหญ่วิสามัญ ประจำปี2563 ,สมาคมกีฬาว่ายน้ำแห่งประเทศไทย,วาระสำคัญ,เลือกตั้งนายกสมาคมกีฬาว่ายน้ำแห่งประเทศไทย\" name=\"keywords\"/>\\n<meta content=\" บิ๊กป้อม   พล.อ.ประวิตร วงษ์สุวรรณ  รองนายกรัฐมนตรี ได้รับความไว้วางใจจากสโมสรสมาชิก โหวตให้เป็นนายกสมาคมกีฬาว่ายน้ำแห่งประเทศไทยสมัยที่ 2 '"
      ]
     },
     "execution_count": 8,
     "metadata": {},
     "output_type": "execute_result"
    }
   ],
   "source": [
    "repr(soup)[:600]"
   ]
  },
  {
   "cell_type": "code",
   "execution_count": 9,
   "metadata": {},
   "outputs": [],
   "source": [
    "def get_article_category(soup):\n",
    "    divs = soup.findAll(\"div\", {\"class\": \"article-category --agents-category\"})\n",
    "    categ = divs[0]['data-category']\n",
    "    return categ\n",
    "\n",
    "def get_article_date(soup):\n",
    "    divs = soup.findAll(\"div\", {\"class\": \"article-date\"})\n",
    "    date_str = divs[0].string\n",
    "    return date_str\n",
    "\n",
    "def get_article_preface(soup):\n",
    "    divs = soup.findAll(\"h2\", {\"class\": \"article-preface\"})\n",
    "    preface_str = divs[0].string\n",
    "    return preface_str\n",
    "\n",
    "def get_article_body(soup):\n",
    "    body = soup.findAll(\"div\", {\"class\": \"article-body\"})[0]\n",
    "    body_parts = []\n",
    "\n",
    "    for elm in body.children:\n",
    "        if type(elm) == bs4.element.Tag:\n",
    "            content = elm.string\n",
    "            if content:\n",
    "                if content.strip() != \"\":\n",
    "                    body_parts.append(content.strip())\n",
    "    return \"\\n\".join(body_parts)"
   ]
  },
  {
   "cell_type": "code",
   "execution_count": 10,
   "metadata": {},
   "outputs": [
    {
     "data": {
      "text/plain": [
       "('กีฬา',\n",
       " '8 พ.ย. 2563',\n",
       " '\" บิ๊กป้อม \" พล.อ.ประวิตร วงษ์สุวรรณ รองนายกรัฐมนตรี ได้รับความไว้วางใจจากสโมสรสมาชิก โหวตให้เป็นนายกสมาคมกีฬาว่ายน้ำแห่งประเทศไทยสมัยที่ 2 โดยมีวาระในตำแหน่ง 2564-2568')"
      ]
     },
     "execution_count": 10,
     "metadata": {},
     "output_type": "execute_result"
    }
   ],
   "source": [
    "get_article_category(soup), get_article_date(soup), get_article_preface(soup)"
   ]
  },
  {
   "cell_type": "code",
   "execution_count": 11,
   "metadata": {},
   "outputs": [],
   "source": [
    "def parse_article(soup):\n",
    "    title = soup.title.string\n",
    "    date = get_article_date(soup)\n",
    "    preface = get_article_preface(soup)\n",
    "    body = get_article_body(soup)\n",
    "    article = {\n",
    "        'title': title,\n",
    "        'date': date,\n",
    "        'preface': preface,\n",
    "        'body': body\n",
    "    }\n",
    "    return article"
   ]
  },
  {
   "cell_type": "code",
   "execution_count": 12,
   "metadata": {},
   "outputs": [],
   "source": [
    "def scrape_nation_articles(start_news_id, n_limits=2000, allowed_categs=[]):\n",
    "    news_id = start_news_id\n",
    "    while len(articles) < n_limits:\n",
    "        if len(articles) % 100 == 0 and articles:\n",
    "            print(\"{} articles fetched\".format(len(articles)))\n",
    "        html_body_str = get_news_from_url(news_id)\n",
    "        soup = BeautifulSoup(html_body_str, 'html.parser')\n",
    "        try:\n",
    "            categ = get_article_category(soup)\n",
    "        except:\n",
    "            print(\"Not found. Cannot find title\")\n",
    "            news_id -= 1\n",
    "            continue\n",
    "        \n",
    "        if categ in allowed_categs:\n",
    "            try:\n",
    "                article = parse_article(soup)\n",
    "            except:\n",
    "                print(\"Article parse error\")\n",
    "                news_id -= 1\n",
    "                continue\n",
    "            article['id'] = news_id\n",
    "            article['category'] = categ\n",
    "            articles.append(article)\n",
    "        \n",
    "        news_id -= 1"
   ]
  },
  {
   "cell_type": "code",
   "execution_count": null,
   "metadata": {
    "scrolled": true
   },
   "outputs": [],
   "source": [
    "articles = []\n",
    "articles = scrape_nation_articles(latest_news_id, n_limits=n_limits, allowed_categs=allowed_categs)"
   ]
  },
  {
   "cell_type": "code",
   "execution_count": 14,
   "metadata": {},
   "outputs": [
    {
     "data": {
      "text/plain": [
       "{'title': 'แร็พประเทศกูมี ปล่อยเพลงใหม่ปฏิรูปฉากหลังเป็นม็อบ ยอดวิวพุ่งติดอันดับหนึ่ง',\n",
       " 'date': '14 พ.ย. 2563',\n",
       " 'preface': 'ดูกันหรือยังเพลงและมิวสิกวีดีโอใหม่ของแร็พประเทศกูมี กับเพลง \"ปฏิรูป\"ที่เนื้อเพลงยังคงจิกกัดสะท้อนสังคมในมุมมองผู้สื่อสารให้เห็น แถมยังมีฉากหลังเป็นเป็นภาพการชุมนุมจริงของม็อบ \"ราษฎร\" ทั้งบริเวณอนุสาวรีย์ประชาธิปไตย แยกราชประสงค์ และอนุสาวรีย์ชัยสมรภูมิ ตอนนี้กลายเป็นเพลงที่มาแรงติดอันดังหนึ่งบนยูทูปป',\n",
       " 'body': 'ส่วนเนื้อเพลงนั้นมีเนื้อหาว่า\\nเรื่องประยุทธกูแ-งไม่อินแต่เรื่องจริง-very goodที่บ้าน-ไม่มีปฏิทินเพราะตามจริงต้องการปฏิรูปมึงเอาเงินภาษีไปกินพวกกูเลยจำเป็นต้องออกมาพูดก้มกราบไม่ค่อยจะชินยกสามนิ้วพวก-อ่ะชู\\nฟังท่อนนี้ละเสียงคุ้นๆประเทศกูมีท่อนแรกอ่ะ-พี่น้องพวกเราโดนยิงและคนสั่งมันชื่อ----พวกเรามีแต่ประชาชน..พวกส้นตีนมีแต่---รอวันศักดินาพินาศประชาราษฏรโห่ร้องไชโย\\nเรียกร้องประชาธิปไตยออกมาชุมนุมกันอย่างสันติข้อเสนอต้องย้ำจุดยืนตั้งแต่10จนถึง3 2 1สู้ด้วยเสรีภาพความคิดไม่ใช่ความผิดที่ต้องโดนจับบุกล้อมหน้าบ้านจับกูแล้วมาแจ้งยุยงปลุกปั่น\\nออกไปเอ้ยเอ้ยออกไปเอ้ยเอ้ยเอ้ยออกไปเอ้ยเอ้ยออกไปเอ้ยเอ้ยเอ้ยตัวพร้อมใจพร้อมถึงโดนล้อมก็ไม่จำนนพร้อมกันพี่น้องส่งเสียงตะโกนของประชาชน\\nที่มาของรัฐแ-งไม่ชอบธรรมไอ้เรื่องส้นตีนพวกนี่ชอบทำบิดเบือนกฎหมายพวก-งชอบจังเสียงประชาชนตะโกนบอก-งไม่ชอบฟังพี่ตามคำสั่งนายไม่ได้ชอบกันต่อให้รู้ว่าไม่ดีพี่ก็ต้องทำปากท้องมันสำคัญว่ะน้องพี่เลยต้องหันกระบอกปืนใส่ผู้คนที่ไม่ได้ป้องกัน\\nนายสั่งพี่ต้องจับเลยไม่เลือกหน้าความเป็นคนพี่มันต่ำพี่ต้องเลือกข้างศรัทธาส้น-นทำพี่เชื่อว่าพี่ต้องอยู่ข้างเผด็จการไม่ใช่เพื่อนบ้านข้างไข่ข้างสีไม่ใช่ข้างคนพี่ยอมทำได้ทุกอย่างพี่เป็นซากคนยศฐาประดับบ่าเอาไว้ล่าคนพี่มีข้ออ้างอยู่เสมอตอนที่ฆ่าคน\\nสวัสดีครับ---สวัสดีครับไอ--ช่วยส่งเสียงตอบรับถ้ามึงอยากจะพำนักอยู่ในรัฐจงตระหนักว่าขุนเป็นของเบี้ยภาษีไม่ใช่ของ--ใช้ทรัพย์สินส่วนของ--แล้วอยากจะมีอีกกี่เมียก็เรื่องของ--ตามสบายแต่อย่าเอาเงิน-ไปละลายพวก-เลี้ยงพวกมึงจนโตเป็นควายทั้งครอบครัวทั้งหญิงทั้งชายฉะนั้นอย่าเสือกจะเนรคุณปลายศรกำลังจ่อที่พุงพร้อมเสียงประชาชนว่ารบเถิดอรชุน\\nPow pow pow get down get down grrrrrเสียงจากUndergroundพวก-มาแหวกกะลาพวก--มันทาสกระหายอำนาจ-----parasitesพวก---มันบ้าถ้าเพื่อเสรีภาพพวกกูพร้อมไฟท์Tutututu, I here tooพวก--สู้ตายแบบไม่ได้ขู่Tutututuเลียตีนให้ตายไอควายยศ-ก็ไม่เท่าฟูฟู--มอง--เป็นศัตรูพวกกูเลยลุกขึ้นมาสู้รัฐประหารมึงเจอ--ถ้าไม่เชื่อก็ลองดู\\nสิบร้อยหมื่นแสนคณะราษฏร์พร้อมเพรียงย่ำตีนด้วยความแค้นรายเรียงส่งเสียงกึกก้องชูสามนิ้วกันให้สุดแขนปล่อยเพื่อน---จะไม่ยอมให้ใครเหยียบย่ำภาษี--มึงถลุงอยู่วันๆเสือกเอาแต่นอน---มึงจะปิดสื่อทั้งประเทศก็ปิดไปปิดหูปิดตาปิดไฟให้แม่งจบที่รุ่น---จะไม่ยอมอยู่แบบเป็นไพร่\\nออกไปเอ้ยเอ้ยออกไปเอ้ยเอ้ยเอ้ยออกไปเอ้ยเอ้ยออกไปเอ้ยเอ้ยเอ้ย\\nเอาเอาเอาสิ่งที่เค้าบัญญัติเอาประชาชนออกมายืนกำหมัดเอาหมาบำบัดเราขอไม่เอาคำสั่ง---เมากำหนัดเอาช่งเอาชาติเอาบ้งเอาบ้านแล้วเอางานมั่งปะเอาแต่พวกพี่เพื่อนพ้องเอาพี่เอาน้องแต่ไม่เอาประวัติเอาทุกอย่างไปเงินชาติเงินใครเอาไปแต่บอกให้เราประหยัดเอาเป็นว่าเราเหมือนขี้ฝุ่นไว้ให้เค้ากำจัดเอาที่หมาเดินเอาสีน้ำเงินแบบนี้เอาปะล่ะ\\nว่าไงพวกเบี้ย---เนี่ย----อยู่ในวงไพ่---มีแต่ใบโพธิ์(ใบโพธิ์)พ่อ---ป๊อกเก้าแต่---แม่งบอดตลอด---เลยให้ประประประแม่งเข้ามาโกงระบอบ---เข้าไปดูที่ _-----กี่คนที่กูเอาลองนับลองนับฆ่าพวกคิดต่างไม่จองเมรุไม่จองวัด--ปกครองทัพหรือมึงจะลองวะมีทหารเป็นกองๆมีเงินเป็นกองกูนอน---นอนนับศพพวก------เป็นกองๆ---ปิดปากปิดปากไม่ยอมรับ\\nมีน้องบอกว่าแม่โทรถามว่าไปชุมนุมกับเขาหรือเปล่าม็อบนี้แจกเงินใช่ไหมเห็นเด็กนั่งนับเงินในข่าวอย่าไปเลยอันตรายข่าวบอกว่ามันอันตรายมัจจุราชอยากเห็นคนตายแต่ใครบ้างล่ะที่ไม่ตายคนออกมากันมากมายออกมาไล่คนหน้าไม่อายเขาอยากจะเปลี่ยนกฎหมายแก้ระบบที่มันฆ่าไม่ตายความเท่าเทียมไม่มีความหมายเราคนไม่มีวาสนาเมื่อคุณทำหลักการหล่นหายประชาชนจึงมาตามหา\\nออกไปเอ้ยเอ้ยออกไปเอ้ยเอ้ยเอ้ยออกไปเอ้ยเอ้ยออกไปเอ้ยเอ้ยเอ้ยออกไปเอ้ยเอ้ยออกไปเอ้ยเอ้ยเอ้ยออกไปเอ้ยเอ้ยออกไปเอ้ยเอ้ยเอ้ย\\nในขณะที่เมื่อเพลงดังกล่าวปล่อยออกไปก็มีคนเข้ามาแสดงความเห็นกันอย่างมากมาย\\nขอบคุณที่มา: Youyube RAP AGAINST DICTATORSHIP\\nเรื่องโดย Nation TV | ภาพโดย Nation TV',\n",
       " 'id': 378805944,\n",
       " 'category': 'การเมือง'}"
      ]
     },
     "execution_count": 14,
     "metadata": {},
     "output_type": "execute_result"
    }
   ],
   "source": [
    "articles[0]"
   ]
  },
  {
   "cell_type": "code",
   "execution_count": 15,
   "metadata": {},
   "outputs": [],
   "source": [
    "df_nation_news = pd.DataFrame(articles)"
   ]
  },
  {
   "cell_type": "code",
   "execution_count": 16,
   "metadata": {},
   "outputs": [],
   "source": [
    "def normalize_date(date_th_str):\n",
    "    day, month, year = date_th_str.split()\n",
    "    months_th = [\"มค\", \"กพ\" , \"มีค\" , \"เมย\" , \"พค\", \"มิย\", \n",
    "              \"กค\", \"สค\", \"กย\", \"ตค\", \"พย\", \"ธค\"]\n",
    "    month_num = months_th.index(month.replace(\".\", \"\")) + 1\n",
    "    year_ad = int(year) - 543\n",
    "    date_fmt = \"{}/{}/{}\".format(year_ad, str(month_num).zfill(2), day.zfill(2))\n",
    "    return date_fmt"
   ]
  },
  {
   "cell_type": "code",
   "execution_count": 17,
   "metadata": {},
   "outputs": [],
   "source": [
    "df_nation_news['date'] = df_nation_news['date'].apply(normalize_date)"
   ]
  },
  {
   "cell_type": "code",
   "execution_count": 18,
   "metadata": {},
   "outputs": [
    {
     "data": {
      "text/html": [
       "<div>\n",
       "<style scoped>\n",
       "    .dataframe tbody tr th:only-of-type {\n",
       "        vertical-align: middle;\n",
       "    }\n",
       "\n",
       "    .dataframe tbody tr th {\n",
       "        vertical-align: top;\n",
       "    }\n",
       "\n",
       "    .dataframe thead th {\n",
       "        text-align: right;\n",
       "    }\n",
       "</style>\n",
       "<table border=\"1\" class=\"dataframe\">\n",
       "  <thead>\n",
       "    <tr style=\"text-align: right;\">\n",
       "      <th></th>\n",
       "      <th>body</th>\n",
       "      <th>category</th>\n",
       "      <th>date</th>\n",
       "      <th>id</th>\n",
       "      <th>preface</th>\n",
       "      <th>title</th>\n",
       "    </tr>\n",
       "  </thead>\n",
       "  <tbody>\n",
       "    <tr>\n",
       "      <th>0</th>\n",
       "      <td>ส่วนเนื้อเพลงนั้นมีเนื้อหาว่า\\nเรื่องประยุทธกู...</td>\n",
       "      <td>การเมือง</td>\n",
       "      <td>2020/11/14</td>\n",
       "      <td>378805944</td>\n",
       "      <td>ดูกันหรือยังเพลงและมิวสิกวีดีโอใหม่ของแร็พประเ...</td>\n",
       "      <td>แร็พประเทศกูมี ปล่อยเพลงใหม่ปฏิรูปฉากหลังเป็นม...</td>\n",
       "    </tr>\n",
       "    <tr>\n",
       "      <th>1</th>\n",
       "      <td>ส่วนที่บริเวณบนฟุตบาธริมถนนมีแนวกั้นสังกะสีมาว...</td>\n",
       "      <td>การเมือง</td>\n",
       "      <td>2020/11/14</td>\n",
       "      <td>378805943</td>\n",
       "      <td>ตำรวจซักซ้อมวางแนวกั้นแบบเร่งด่วน นำรถเมล์มาจอ...</td>\n",
       "      <td>ผวาม็อบ!! ตำรวจซ้อมวางแนวกั้น ปิดราชดำเนินกลางดึก</td>\n",
       "    </tr>\n",
       "    <tr>\n",
       "      <th>2</th>\n",
       "      <td>โครงการพระราชดำริฝนหลวง เกิดขึ้นจากพระราชดำริส...</td>\n",
       "      <td>ข่าวในพระราชสำนัก</td>\n",
       "      <td>2020/11/14</td>\n",
       "      <td>378805928</td>\n",
       "      <td>14 พฤศจิกายน ของทุกปี คือ \"วันพระบิดาแห่งฝนหลว...</td>\n",
       "      <td>14 พฤศจิกายน วันพระบิดาแห่งฝนหลวง</td>\n",
       "    </tr>\n",
       "  </tbody>\n",
       "</table>\n",
       "</div>"
      ],
      "text/plain": [
       "                                                body           category  \\\n",
       "0  ส่วนเนื้อเพลงนั้นมีเนื้อหาว่า\\nเรื่องประยุทธกู...           การเมือง   \n",
       "1  ส่วนที่บริเวณบนฟุตบาธริมถนนมีแนวกั้นสังกะสีมาว...           การเมือง   \n",
       "2  โครงการพระราชดำริฝนหลวง เกิดขึ้นจากพระราชดำริส...  ข่าวในพระราชสำนัก   \n",
       "\n",
       "         date         id                                            preface  \\\n",
       "0  2020/11/14  378805944  ดูกันหรือยังเพลงและมิวสิกวีดีโอใหม่ของแร็พประเ...   \n",
       "1  2020/11/14  378805943  ตำรวจซักซ้อมวางแนวกั้นแบบเร่งด่วน นำรถเมล์มาจอ...   \n",
       "2  2020/11/14  378805928  14 พฤศจิกายน ของทุกปี คือ \"วันพระบิดาแห่งฝนหลว...   \n",
       "\n",
       "                                               title  \n",
       "0  แร็พประเทศกูมี ปล่อยเพลงใหม่ปฏิรูปฉากหลังเป็นม...  \n",
       "1  ผวาม็อบ!! ตำรวจซ้อมวางแนวกั้น ปิดราชดำเนินกลางดึก  \n",
       "2                  14 พฤศจิกายน วันพระบิดาแห่งฝนหลวง  "
      ]
     },
     "execution_count": 18,
     "metadata": {},
     "output_type": "execute_result"
    }
   ],
   "source": [
    "df_nation_news.head(3)"
   ]
  },
  {
   "cell_type": "code",
   "execution_count": 19,
   "metadata": {},
   "outputs": [],
   "source": [
    "df_nation_news.to_csv(save_path.format(len(articles)), index=False)"
   ]
  },
  {
   "cell_type": "code",
   "execution_count": null,
   "metadata": {},
   "outputs": [],
   "source": []
  }
 ],
 "metadata": {
  "kernelspec": {
   "display_name": "Python 3",
   "language": "python",
   "name": "python3"
  },
  "language_info": {
   "codemirror_mode": {
    "name": "ipython",
    "version": 3
   },
   "file_extension": ".py",
   "mimetype": "text/x-python",
   "name": "python",
   "nbconvert_exporter": "python",
   "pygments_lexer": "ipython3",
   "version": "3.7.2"
  }
 },
 "nbformat": 4,
 "nbformat_minor": 4
}
