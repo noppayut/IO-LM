{
 "cells": [
  {
   "cell_type": "code",
   "execution_count": null,
   "metadata": {
    "colab": {
     "base_uri": "https://localhost:8080/"
    },
    "id": "GnIsF0uI_3t0",
    "outputId": "5134bbe6-8ee7-45ed-e7e9-9b0187faf649"
   },
   "outputs": [],
   "source": [
    "pip install facebook-scraper"
   ]
  },
  {
   "cell_type": "code",
   "execution_count": 1,
   "metadata": {
    "colab": {
     "base_uri": "https://localhost:8080/",
     "height": 300
    },
    "id": "k-Z6MbRsAqb5",
    "outputId": "f4d7fef5-ab6b-4598-e417-ec6f4be681b8"
   },
   "outputs": [
    {
     "name": "stderr",
     "output_type": "stream",
     "text": [
      "/Library/Frameworks/Python.framework/Versions/3.7/lib/python3.7/site-packages/requests/__init__.py:91: RequestsDependencyWarning: urllib3 (1.26.2) or chardet (3.0.4) doesn't match a supported version!\n",
      "  RequestsDependencyWarning)\n"
     ]
    }
   ],
   "source": [
    "from facebook_scraper import get_posts"
   ]
  },
  {
   "cell_type": "code",
   "execution_count": 2,
   "metadata": {},
   "outputs": [],
   "source": [
    "page_name = 'CheerLung'"
   ]
  },
  {
   "cell_type": "code",
   "execution_count": 3,
   "metadata": {},
   "outputs": [],
   "source": [
    "save_path = \"cheerlung_scraped.csv\""
   ]
  },
  {
   "cell_type": "code",
   "execution_count": 4,
   "metadata": {
    "id": "5QNHLmHk_8Xx"
   },
   "outputs": [
    {
     "name": "stdout",
     "output_type": "stream",
     "text": [
      "100 fetched\n",
      "------------------------------\n",
      "200 fetched\n",
      "------------------------------\n",
      "300 fetched\n",
      "------------------------------\n",
      "400 fetched\n",
      "------------------------------\n"
     ]
    }
   ],
   "source": [
    "posts = []\n",
    "\n",
    "for post in get_posts(page_name, pages=999999):\n",
    "  if len(posts) % 100 == 0 and len(posts) > 0:\n",
    "    print(len(posts), \"fetched\")\n",
    "    print(\"-\" * 30)\n",
    "  posts.append(post)"
   ]
  },
  {
   "cell_type": "code",
   "execution_count": 5,
   "metadata": {
    "id": "EKIQL6krBPyj"
   },
   "outputs": [
    {
     "data": {
      "text/plain": [
       "{'post_id': '2589394961370602',\n",
       " 'text': 'ร่วมให้กำลังใจนายก \"ลุงตู่\" สู้ๆครับ 💕❤✌\\n\\nวันนี้ (7 ส.ค.63) \"ลุงตู่\" พล.อ.ประยุทธ์ จันทร์โอชา นายกฯ เป็นประธานในพิธีเปิดร้านกาแฟ APCD 60+Plus Bakery & Chocolate Cafe ที่ ทำเนียบรัฐบาล โดย นายกฯ ดื่มคาปูชิโนร้อน\\n\\nซึ่ง คกก.สวัสดิการสำนักเลขาธิการนายกฯ อนุญาตให้เปิดร้านกาแฟคนพิการ เพื่อเป็นการส่งเสริมกิจกรรมคนพิการ..!!\\n\\nภาพ: ทำเนียบรัฐบาล\\n#เชียร์ลุง #ลุงตู่ 💗',\n",
       " 'post_text': 'ร่วมให้กำลังใจนายก \"ลุงตู่\" สู้ๆครับ 💕❤✌\\n\\nวันนี้ (7 ส.ค.63) \"ลุงตู่\" พล.อ.ประยุทธ์ จันทร์โอชา นายกฯ เป็นประธานในพิธีเปิดร้านกาแฟ APCD 60+Plus Bakery & Chocolate Cafe ที่ ทำเนียบรัฐบาล โดย นายกฯ ดื่มคาปูชิโนร้อน\\n\\nซึ่ง คกก.สวัสดิการสำนักเลขาธิการนายกฯ อนุญาตให้เปิดร้านกาแฟคนพิการ เพื่อเป็นการส่งเสริมกิจกรรมคนพิการ..!!\\n\\nภาพ: ทำเนียบรัฐบาล\\n#เชียร์ลุง #ลุงตู่ 💗',\n",
       " 'shared_text': '',\n",
       " 'time': datetime.datetime(2020, 8, 7, 15, 8, 23),\n",
       " 'image': 'https://scontent-nrt1-1.xx.fbcdn.net/v/t1.0-9/fr/cp0/e15/q65/116859498_2589392368037528_2051256379133777866_n.jpg?_nc_cat=110&ccb=2&_nc_sid=110474&_nc_ohc=f9dSQ932encAX_vn9ib&_nc_ht=scontent-nrt1-1.xx&tp=14&oh=10e1a296a56afa5ccf35d644d3641892&oe=5FD5C872',\n",
       " 'video': None,\n",
       " 'video_thumbnail': None,\n",
       " 'video_id': None,\n",
       " 'likes': 3561,\n",
       " 'comments': 155,\n",
       " 'shares': 0,\n",
       " 'post_url': 'https://facebook.com/story.php?story_fbid=2589394961370602&id=2046265545683549',\n",
       " 'link': None,\n",
       " 'user_id': '2046265545683549',\n",
       " 'images': ['https://scontent-nrt1-1.xx.fbcdn.net/v/t1.0-9/fr/cp0/e15/q65/116859498_2589392368037528_2051256379133777866_n.jpg?_nc_cat=110&ccb=2&_nc_sid=110474&_nc_ohc=f9dSQ932encAX_vn9ib&_nc_ht=scontent-nrt1-1.xx&tp=14&oh=10e1a296a56afa5ccf35d644d3641892&oe=5FD5C872',\n",
       "  'https://scontent-nrt1-1.xx.fbcdn.net/v/t1.0-9/fr/cp0/e15/q65/117373874_2589392344704197_547159481110406071_n.jpg?_nc_cat=102&ccb=2&_nc_sid=110474&_nc_ohc=BoFeJMg6T3cAX-qSj_4&_nc_ht=scontent-nrt1-1.xx&tp=14&oh=26a23de31731f996949a9dbc2c901820&oe=5FD328D3',\n",
       "  'https://scontent.fkix2-1.fna.fbcdn.net/v/t1.0-9/fr/cp0/e15/q65/117038179_2589392401370858_8798868909497905537_n.jpg?_nc_cat=106&ccb=2&_nc_sid=110474&_nc_ohc=af5D5YtpEh4AX-k8QpN&_nc_ht=scontent.fkix2-1.fna&tp=14&oh=4641c743e12db137092f1b78d0234efe&oe=5FD49E7B',\n",
       "  'https://scontent-nrt1-1.xx.fbcdn.net/v/t1.0-9/fr/cp0/e15/q65/117375537_2589392421370856_1557191195454060883_n.jpg?_nc_cat=111&ccb=2&_nc_sid=110474&_nc_ohc=86tauSo2TYIAX_qEv2k&_nc_ht=scontent-nrt1-1.xx&tp=14&oh=339d4bda968b071ef83bc041e721827d&oe=5FD38B90']}"
      ]
     },
     "execution_count": 5,
     "metadata": {},
     "output_type": "execute_result"
    }
   ],
   "source": [
    "posts[-1]"
   ]
  },
  {
   "cell_type": "code",
   "execution_count": 6,
   "metadata": {
    "id": "_q_Ub6dmRtbz"
   },
   "outputs": [
    {
     "data": {
      "text/html": [
       "<div>\n",
       "<style scoped>\n",
       "    .dataframe tbody tr th:only-of-type {\n",
       "        vertical-align: middle;\n",
       "    }\n",
       "\n",
       "    .dataframe tbody tr th {\n",
       "        vertical-align: top;\n",
       "    }\n",
       "\n",
       "    .dataframe thead th {\n",
       "        text-align: right;\n",
       "    }\n",
       "</style>\n",
       "<table border=\"1\" class=\"dataframe\">\n",
       "  <thead>\n",
       "    <tr style=\"text-align: right;\">\n",
       "      <th></th>\n",
       "      <th>comments</th>\n",
       "      <th>image</th>\n",
       "      <th>images</th>\n",
       "      <th>likes</th>\n",
       "      <th>link</th>\n",
       "      <th>post_id</th>\n",
       "      <th>post_text</th>\n",
       "      <th>post_url</th>\n",
       "      <th>shared_text</th>\n",
       "      <th>shares</th>\n",
       "      <th>text</th>\n",
       "      <th>time</th>\n",
       "      <th>user_id</th>\n",
       "      <th>video</th>\n",
       "      <th>video_id</th>\n",
       "      <th>video_thumbnail</th>\n",
       "    </tr>\n",
       "  </thead>\n",
       "  <tbody>\n",
       "    <tr>\n",
       "      <th>0</th>\n",
       "      <td>644</td>\n",
       "      <td>https://scontent.fkix2-1.fna.fbcdn.net/v/t1.0-...</td>\n",
       "      <td>[https://scontent.fkix2-1.fna.fbcdn.net/v/t1.0...</td>\n",
       "      <td>10230</td>\n",
       "      <td>None</td>\n",
       "      <td>2685517425091688</td>\n",
       "      <td>#ทรงพระเจริญ 💛💛💛🙏\\n\\nหลังจาก \"ในหลวง\" เสร็จสิ้...</td>\n",
       "      <td>https://facebook.com/story.php?story_fbid=2685...</td>\n",
       "      <td></td>\n",
       "      <td>0</td>\n",
       "      <td>#ทรงพระเจริญ 💛💛💛🙏\\n\\nหลังจาก \"ในหลวง\" เสร็จสิ้...</td>\n",
       "      <td>2020-11-12 21:42:36</td>\n",
       "      <td>2046265545683549</td>\n",
       "      <td>None</td>\n",
       "      <td>None</td>\n",
       "      <td>None</td>\n",
       "    </tr>\n",
       "    <tr>\n",
       "      <th>1</th>\n",
       "      <td>193</td>\n",
       "      <td>https://scontent.fkix2-2.fna.fbcdn.net/v/t1.0-...</td>\n",
       "      <td>[https://scontent.fkix2-2.fna.fbcdn.net/v/t1.0...</td>\n",
       "      <td>3109</td>\n",
       "      <td>None</td>\n",
       "      <td>2687085094934921</td>\n",
       "      <td>เกิดเป็นคนไทยทั้งที จงหัดทำตัวให้มีค่า ให้มีเก...</td>\n",
       "      <td>https://facebook.com/story.php?story_fbid=2687...</td>\n",
       "      <td></td>\n",
       "      <td>0</td>\n",
       "      <td>เกิดเป็นคนไทยทั้งที จงหัดทำตัวให้มีค่า ให้มีเก...</td>\n",
       "      <td>2020-11-14 10:03:04</td>\n",
       "      <td>2046265545683549</td>\n",
       "      <td>None</td>\n",
       "      <td>None</td>\n",
       "      <td>None</td>\n",
       "    </tr>\n",
       "  </tbody>\n",
       "</table>\n",
       "</div>"
      ],
      "text/plain": [
       "   comments                                              image  \\\n",
       "0       644  https://scontent.fkix2-1.fna.fbcdn.net/v/t1.0-...   \n",
       "1       193  https://scontent.fkix2-2.fna.fbcdn.net/v/t1.0-...   \n",
       "\n",
       "                                              images  likes  link  \\\n",
       "0  [https://scontent.fkix2-1.fna.fbcdn.net/v/t1.0...  10230  None   \n",
       "1  [https://scontent.fkix2-2.fna.fbcdn.net/v/t1.0...   3109  None   \n",
       "\n",
       "            post_id                                          post_text  \\\n",
       "0  2685517425091688  #ทรงพระเจริญ 💛💛💛🙏\\n\\nหลังจาก \"ในหลวง\" เสร็จสิ้...   \n",
       "1  2687085094934921  เกิดเป็นคนไทยทั้งที จงหัดทำตัวให้มีค่า ให้มีเก...   \n",
       "\n",
       "                                            post_url shared_text  shares  \\\n",
       "0  https://facebook.com/story.php?story_fbid=2685...                   0   \n",
       "1  https://facebook.com/story.php?story_fbid=2687...                   0   \n",
       "\n",
       "                                                text                time  \\\n",
       "0  #ทรงพระเจริญ 💛💛💛🙏\\n\\nหลังจาก \"ในหลวง\" เสร็จสิ้... 2020-11-12 21:42:36   \n",
       "1  เกิดเป็นคนไทยทั้งที จงหัดทำตัวให้มีค่า ให้มีเก... 2020-11-14 10:03:04   \n",
       "\n",
       "            user_id video video_id video_thumbnail  \n",
       "0  2046265545683549  None     None            None  \n",
       "1  2046265545683549  None     None            None  "
      ]
     },
     "execution_count": 6,
     "metadata": {},
     "output_type": "execute_result"
    }
   ],
   "source": [
    "import pandas as pd\n",
    "\n",
    "df = pd.DataFrame(posts)\n",
    "df.head(2)"
   ]
  },
  {
   "cell_type": "code",
   "execution_count": null,
   "metadata": {
    "id": "r-P_3tKxR5zL"
   },
   "outputs": [],
   "source": [
    "df.to_csv(save_path, index=False)"
   ]
  },
  {
   "cell_type": "code",
   "execution_count": null,
   "metadata": {
    "id": "6Sfbvu6dSgmn"
   },
   "outputs": [],
   "source": [
    "sr_joined = df[['text', 'shared_text']].apply(lambda row: \"\\n\".join(row))"
   ]
  },
  {
   "cell_type": "code",
   "execution_count": null,
   "metadata": {
    "id": "6xX0yV5wTI3W"
   },
   "outputs": [],
   "source": [
    "with open(\"cheerlung_joined.csv\", \"w\") as f:\n",
    "  for jn in sr_joined:\n",
    "    f.write(jn + '\\n')"
   ]
  }
 ],
 "metadata": {
  "accelerator": "GPU",
  "colab": {
   "collapsed_sections": [],
   "name": "PyTorch Transformer LM.ipynb",
   "provenance": []
  },
  "kernelspec": {
   "display_name": "Python 3",
   "language": "python",
   "name": "python3"
  },
  "language_info": {
   "codemirror_mode": {
    "name": "ipython",
    "version": 3
   },
   "file_extension": ".py",
   "mimetype": "text/x-python",
   "name": "python",
   "nbconvert_exporter": "python",
   "pygments_lexer": "ipython3",
   "version": "3.7.2"
  }
 },
 "nbformat": 4,
 "nbformat_minor": 2
}
